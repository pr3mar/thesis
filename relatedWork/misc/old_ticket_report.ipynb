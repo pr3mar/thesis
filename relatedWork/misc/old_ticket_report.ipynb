{
 "cells": [
  {
   "cell_type": "code",
   "execution_count": null,
   "metadata": {
    "collapsed": true
   },
   "outputs": [],
   "source": [
    "%precision %.2f\n",
    "%matplotlib inline\n",
    "import matplotlib.pyplot as plt\n",
    "plt.rcParams['figure.figsize'] = (10, 8)\n",
    "import pandas as pd\n",
    "import numpy as np\n",
    "from datetime import date\n",
    "import plotly.io as pio\n",
    "pio.renderers.default='notebook'\n",
    "import plotly.express as px\n",
    "\n",
    "import src.compute.tickets as tickets\n",
    "import src.compute.changelogs as changelogs\n",
    "from src.compute.utils import Interval, statuses_of_interest\n",
    "from src.db.utils import SnowflakeWrapper\n",
    "from src.config import data_root\n",
    "\n",
    "pd.options.display.float_format = '{:,.2f}'.format\n",
    "np.set_printoptions(precision=2)\n",
    "conn = SnowflakeWrapper.create_snowflake_connection()\n",
    "sw = SnowflakeWrapper(conn)"
   ]
  },
  {
   "cell_type": "code",
   "execution_count": null,
   "outputs": [],
   "source": [
    "active_interval: Interval = Interval(\n",
    "    # fromDate=date(2019, 7, 1), # year, month, day\n",
    "    # toDate=date(2019, 10, 1),\n",
    "    fromDate=date(2019, 10, 1), # year, month, day\n",
    "    toDate=date(2020, 1, 1)\n",
    ")\n",
    "print(\"Active interval:\", active_interval)"
   ],
   "metadata": {
    "collapsed": false,
    "pycharm": {
     "name": "#%%\n"
    }
   }
  },
  {
   "cell_type": "code",
   "execution_count": null,
   "outputs": [],
   "source": [
    "def plot_data(\n",
    "    data: pd.Series,\n",
    "    xlab: str = \"#days\",\n",
    "    ylab: str = \"frequency\",\n",
    "    num_bins: int = 30,\n",
    "    note: str = \"\"\n",
    ") -> None:\n",
    "    fig = plt.figure()\n",
    "    plt.hist(data, bins=num_bins, alpha=0.75, edgecolor='black')\n",
    "    # plt.xticks(np.arange(np.ceil(data.min()) - 2,np.ceil(data.max()) + 2,1))\n",
    "    plt.axvline(data.mean(), color='black', linestyle='dashed', linewidth=2, label=f\"Mean = {data.mean():.3f}\")\n",
    "    # plt.axvline(chosen_ticket[\"AVG_HOUR\"], color='g', linestyle='dashed', linewidth=2, label=f'Chosen user = {chosen_user[\"AVG_HOUR\"]:.3f}')\n",
    "\n",
    "    plt.title(f\"Distribution of {note} [{len(data)}]\")\n",
    "    plt.xlabel(xlab)\n",
    "    plt.ylabel(ylab)\n",
    "    plt.legend()\n",
    "    plt.grid()\n",
    "    fnote = note.lower().replace(' ', '_')\n",
    "    plt.savefig(f\"{data_root}/figs/priority/ticket_comparison_\"\n",
    "                f\"{xlab.lower()}_\"\n",
    "                f\"{f'{fnote}_' if len(fnote) > 0 else ''}\"\n",
    "                f\"hist.png\")\n",
    "    plt.show()"
   ],
   "metadata": {
    "collapsed": false,
    "pycharm": {
     "name": "#%%\n"
    }
   }
  },
  {
   "cell_type": "code",
   "execution_count": null,
   "outputs": [],
   "source": [
    "tickets_active_on_interval = changelogs.tickets_active_on_interval(sw, active_interval)\n",
    "print(f\"Number of tickets active on {active_interval}: {len(tickets_active_on_interval)}\")"
   ],
   "metadata": {
    "collapsed": false,
    "pycharm": {
     "name": "#%%\n"
    }
   }
  },
  {
   "cell_type": "code",
   "execution_count": null,
   "outputs": [],
   "source": [
    "ticket_data = tickets.get_tickets(sw, active_interval)"
   ],
   "metadata": {
    "collapsed": false,
    "pycharm": {
     "name": "#%%\n"
    }
   }
  },
  {
   "cell_type": "code",
   "execution_count": null,
   "outputs": [],
   "source": [
    "issueType = 'New Feature or Improvement'\n",
    "status = 'Development'\n",
    "metric = 'AVG_DAYS'\n",
    "data = ticket_data.loc[\n",
    "    (ticket_data['IssueType'] == issueType) &\n",
    "    (ticket_data['STATUS'] == status)\n",
    "][metric] # & ticket_data['IssueType'] == 'Bug']['AVG_DAYS']\n",
    "\n",
    "plot_data(data, note=f\"{issueType} {status}\", xlab=metric)"
   ],
   "metadata": {
    "collapsed": false,
    "pycharm": {
     "name": "#%%\n"
    }
   }
  },
  {
   "cell_type": "code",
   "execution_count": null,
   "outputs": [],
   "source": [
    "issueType = 'Bug'\n",
    "status = 'Code review'\n",
    "issuePriority = 'Blocker'\n",
    "metric = 'AVG_DAYS'\n",
    "# metric = 'DegreeOfCycling'\n",
    "\n",
    "# for issuePriority in ['Trivial', 'Minor', 'Major', 'Critical', 'Blocker']:\n",
    "# for issueType in ['Bug', 'New Feature or Improvement', 'Internal Improvement', 'Epic']:\n",
    "#     for metric in ['AVG_DAYS', 'DegreeOfCycling']:\n",
    "        # for status in ['Development', 'Code review', 'Testing', 'Needs CR fixes', 'Needs QA fixes']:\n",
    "data = ticket_data.loc[\n",
    "    (ticket_data['IssuePriority'] == issuePriority)\n",
    "    # (ticket_data['IssueType'] == issueType)\n",
    "    # & (ticket_data['STATUS'] == status)\n",
    "][metric]\n",
    "plot_data(data, note=f\"{issuePriority}\", xlab=metric, num_bins=30)"
   ],
   "metadata": {
    "collapsed": false,
    "pycharm": {
     "name": "#%%\n"
    }
   }
  }
 ],
 "metadata": {
  "kernelspec": {
   "display_name": "Python 3",
   "language": "python",
   "name": "python3"
  },
  "language_info": {
   "codemirror_mode": {
    "name": "ipython",
    "version": 2
   },
   "file_extension": ".py",
   "mimetype": "text/x-python",
   "name": "python",
   "nbconvert_exporter": "python",
   "pygments_lexer": "ipython2",
   "version": "2.7.6"
  }
 },
 "nbformat": 4,
 "nbformat_minor": 0
}