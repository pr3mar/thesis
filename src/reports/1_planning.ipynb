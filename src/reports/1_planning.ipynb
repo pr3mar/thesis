{
 "cells": [
  {
   "cell_type": "markdown",
   "metadata": {
    "collapsed": true,
    "pycharm": {
     "name": "#%% md\n"
    }
   },
   "source": [
    "# Planning report\n",
    "## Create new tickets with fitting predictions easily"
   ]
  },
  {
   "cell_type": "code",
   "execution_count": 1,
   "metadata": {
    "hideCode": true,
    "hideOutput": true,
    "hidePrompt": true,
    "pycharm": {
     "name": "#%%\n"
    }
   },
   "outputs": [
    {
     "data": {
      "text/html": [
       "        <script type=\"text/javascript\">\n",
       "        window.PlotlyConfig = {MathJaxConfig: 'local'};\n",
       "        if (window.MathJax) {MathJax.Hub.Config({SVG: {font: \"STIX-Web\"}});}\n",
       "        if (typeof require !== 'undefined') {\n",
       "        require.undef(\"plotly\");\n",
       "        requirejs.config({\n",
       "            paths: {\n",
       "                'plotly': ['https://cdn.plot.ly/plotly-latest.min']\n",
       "            }\n",
       "        });\n",
       "        require(['plotly'], function(Plotly) {\n",
       "            window._Plotly = Plotly;\n",
       "        });\n",
       "        }\n",
       "        </script>\n",
       "        "
      ]
     },
     "metadata": {},
     "output_type": "display_data"
    },
    {
     "data": {
      "text/html": [
       "        <script type=\"text/javascript\">\n",
       "        window.PlotlyConfig = {MathJaxConfig: 'local'};\n",
       "        if (window.MathJax) {MathJax.Hub.Config({SVG: {font: \"STIX-Web\"}});}\n",
       "        if (typeof require !== 'undefined') {\n",
       "        require.undef(\"plotly\");\n",
       "        requirejs.config({\n",
       "            paths: {\n",
       "                'plotly': ['https://cdn.plot.ly/plotly-latest.min']\n",
       "            }\n",
       "        });\n",
       "        require(['plotly'], function(Plotly) {\n",
       "            window._Plotly = Plotly;\n",
       "        });\n",
       "        }\n",
       "        </script>\n",
       "        "
      ]
     },
     "metadata": {},
     "output_type": "display_data"
    }
   ],
   "source": [
    "import ipywidgets as widgets\n",
    "import pandas as pd\n",
    "import plotly.express as px\n",
    "from plotly.offline import iplot, init_notebook_mode\n",
    "init_notebook_mode(connected=True)\n",
    "\n",
    "\n",
    "import cufflinks as cf\n",
    "cf.go_offline(connected=True)\n",
    "cf.set_config_file(colorscale='plotly', world_readable=True)\n",
    "\n",
    "# Extra options\n",
    "pd.options.display.max_rows = 30\n",
    "pd.options.display.max_columns = 25\n",
    "\n",
    "from datetime import date\n",
    "from ipywidgets import interact, interact_manual\n",
    "from src.db.utils import SnowflakeWrapper\n",
    "from src.compute.utils import Interval\n",
    "from src.compute.tickets import get_tickets\n",
    "from src.compute.developer import get_developers, get_developer_ids, tickets_assigned_per_day\n",
    "conn = SnowflakeWrapper.create_snowflake_connection()\n",
    "sw = SnowflakeWrapper(conn)"
   ]
  },
  {
   "cell_type": "code",
   "execution_count": 2,
   "metadata": {
    "hideCode": true,
    "hideOutput": true,
    "hidePrompt": true,
    "pycharm": {
     "name": "#%%\n"
    }
   },
   "outputs": [],
   "source": [
    "#widgets.DatePicker(description='Pick a Date to', disabled=False)\n",
    "interval = Interval(date(2019, 10, 1), date(2020, 1, 1))\n",
    "df = get_tickets(sw, interval)"
   ]
  },
  {
   "cell_type": "code",
   "execution_count": 5,
   "metadata": {
    "hideCode": true,
    "hidePrompt": true,
    "pycharm": {
     "name": "#%%\n"
    },
    "slideshow": {
     "slide_type": "-"
    }
   },
   "outputs": [
    {
     "data": {
      "application/vnd.jupyter.widget-view+json": {
       "model_id": "23192b9e9fed4f6988cbad9e0823d267",
       "version_major": 2,
       "version_minor": 0
      },
      "text/plain": [
       "interactive(children=(Text(value='marko.prelevikj', description='Choose Developer', placeholder='Developer ID'…"
      ]
     },
     "metadata": {},
     "output_type": "display_data"
    }
   ],
   "source": [
    "def plot_up_to(dev_id, date_from, date_to):\n",
    "    current_interval = Interval(date_from, date_to)\n",
    "    plot_df = tickets_assigned_per_day(sw, dev_id, current_interval)\n",
    "    return px.histogram(\n",
    "        plot_df,\n",
    "        x=\"DAY_ASSIGNED\",\n",
    "        color=\"KEY\",\n",
    "        title=f\"Issues on thee interval {interval})\",\n",
    "        hover_data=plot_df.columns\n",
    "    )\n",
    "\n",
    "_ = interact(\n",
    "        plot_up_to,\n",
    "        dev_id=widgets.widgets.Text(value='marko.prelevikj', placeholder='Developer ID', description='Choose Developer', disabled=False),\n",
    "        sel=widgets.SelectMultiple(options=['Apples', 'Oranges', 'Pears'],value=['Oranges'],description='Options',disabled=False),\n",
    "        date_from = widgets.DatePicker(value=date(2019,10,1)),\n",
    "        date_to = widgets.DatePicker(value=date(2020,1,1))\n",
    "    )"
   ]
  }
 ],
 "metadata": {
  "celltoolbar": "Hide code",
  "kernelspec": {
   "display_name": "Python 3",
   "language": "python",
   "name": "python3"
  },
  "language_info": {
   "codemirror_mode": {
    "name": "ipython",
    "version": 3
   },
   "file_extension": ".py",
   "mimetype": "text/x-python",
   "name": "python",
   "nbconvert_exporter": "python",
   "pygments_lexer": "ipython3",
   "version": "3.7.6"
  }
 },
 "nbformat": 4,
 "nbformat_minor": 1
}