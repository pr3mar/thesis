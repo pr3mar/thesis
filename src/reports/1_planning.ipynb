{
 "cells": [
  {
   "cell_type": "markdown",
   "metadata": {
    "collapsed": true,
    "pycharm": {
     "name": "#%% md\n"
    }
   },
   "source": [
    "# Planning report\n",
    "## Create new tickets with fitting predictions easily"
   ]
  },
  {
   "cell_type": "code",
   "execution_count": 72,
   "metadata": {
    "hideCode": true,
    "hideOutput": true,
    "hidePrompt": true,
    "pycharm": {
     "name": "#%%\n"
    }
   },
   "outputs": [
    {
     "data": {
      "text/html": [
       "        <script type=\"text/javascript\">\n",
       "        window.PlotlyConfig = {MathJaxConfig: 'local'};\n",
       "        if (window.MathJax) {MathJax.Hub.Config({SVG: {font: \"STIX-Web\"}});}\n",
       "        if (typeof require !== 'undefined') {\n",
       "        require.undef(\"plotly\");\n",
       "        requirejs.config({\n",
       "            paths: {\n",
       "                'plotly': ['https://cdn.plot.ly/plotly-latest.min']\n",
       "            }\n",
       "        });\n",
       "        require(['plotly'], function(Plotly) {\n",
       "            window._Plotly = Plotly;\n",
       "        });\n",
       "        }\n",
       "        </script>\n",
       "        "
      ]
     },
     "metadata": {},
     "output_type": "display_data"
    },
    {
     "data": {
      "text/html": [
       "        <script type=\"text/javascript\">\n",
       "        window.PlotlyConfig = {MathJaxConfig: 'local'};\n",
       "        if (window.MathJax) {MathJax.Hub.Config({SVG: {font: \"STIX-Web\"}});}\n",
       "        if (typeof require !== 'undefined') {\n",
       "        require.undef(\"plotly\");\n",
       "        requirejs.config({\n",
       "            paths: {\n",
       "                'plotly': ['https://cdn.plot.ly/plotly-latest.min']\n",
       "            }\n",
       "        });\n",
       "        require(['plotly'], function(Plotly) {\n",
       "            window._Plotly = Plotly;\n",
       "        });\n",
       "        }\n",
       "        </script>\n",
       "        "
      ]
     },
     "metadata": {},
     "output_type": "display_data"
    }
   ],
   "source": [
    "import ipywidgets as widgets\n",
    "import pandas as pd\n",
    "import plotly.express as px\n",
    "from plotly.offline import iplot, init_notebook_mode\n",
    "init_notebook_mode(connected=True)\n",
    "\n",
    "import xgboost as xgb\n",
    "import shap\n",
    "import numpy as np\n",
    "import cufflinks as cf\n",
    "cf.go_offline(connected=True)\n",
    "cf.set_config_file(colorscale='plotly', world_readable=True)\n",
    "\n",
    "# Extra options\n",
    "pd.options.display.max_rows = 30\n",
    "pd.options.display.max_columns = 25\n",
    "\n",
    "from datetime import date\n",
    "from ipywidgets import interact, interact_manual\n",
    "from sklearn.model_selection import train_test_split\n",
    "from sklearn.metrics import mean_absolute_error\n",
    "from src.db.utils import SnowflakeWrapper\n",
    "from src.config import data_root\n",
    "from src.compute.utils import Interval\n",
    "from src.compute.tickets import get_tickets, get_ticket_counts, get_unresolved_ticket_counts\n",
    "from src.compute.developer import get_developers, get_developer_ids, tickets_assigned_per_day\n",
    "# conn = SnowflakeWrapper.create_snowflake_connection()\n",
    "# sw = SnowflakeWrapper(conn)\n",
    "\n",
    "\n",
    "breakdown_labels = {\n",
    "    \"Issue Type\": \"issueType\",\n",
    "    \"Issue Priority\": \"issuePriority\"\n",
    "}"
   ]
  },
  {
   "cell_type": "code",
   "execution_count": 73,
   "metadata": {
    "pycharm": {
     "name": "#%%\n"
    }
   },
   "outputs": [],
   "source": [
    "# def plot_ticket_counts(breakdown):\n",
    "#     plot_df = get_ticket_counts(sw, [breakdown_labels[breakdown], \"resolved\"])\n",
    "#     sum_all = plot_df[\"COUNT\"].sum()\n",
    "#     fig = px.histogram(\n",
    "#         plot_df,\n",
    "#         x=breakdown_labels[breakdown].upper(),\n",
    "#         y=\"COUNT\",\n",
    "#         color=\"RESOLVED\",\n",
    "#         barmode=\"group\",\n",
    "#         title=f\"All tickets [{sum_all}] broken down by {breakdown}\",\n",
    "#         hover_data=plot_df.columns\n",
    "#     )\n",
    "#     fig.update_layout(\n",
    "#         bargap=0.01,\n",
    "#         yaxis_title=\"Number of tickets\",\n",
    "#         xaxis_title=breakdown,\n",
    "#     )\n",
    "#     return fig\n",
    "# \n",
    "# _ = interact(\n",
    "#     plot_ticket_counts,\n",
    "#     breakdown=widgets.Dropdown(options=breakdown_labels.keys(), description=\"Breakdown by\"),\n",
    "# )"
   ]
  },
  {
   "cell_type": "code",
   "execution_count": 74,
   "metadata": {
    "hideCode": true,
    "hidePrompt": true,
    "pycharm": {
     "name": "#%%\n"
    }
   },
   "outputs": [],
   "source": [
    "# unresolved_breakdown_labels = {\n",
    "#     \"Issue Type\": \"issueType\",\n",
    "#     \"Issue Priority\": \"issuePriority\",\n",
    "#     \"Status\": \"status\"\n",
    "# }\n",
    "# def plot_unresolved_ticket_counts(date_from, date_to, all_unresolved, breakdown):\n",
    "#     current_interval = Interval(date_from, date_to)\n",
    "#     plot_df = get_unresolved_ticket_counts(sw, current_interval, all_unresolved_until=all_unresolved, breakdowns=[unresolved_breakdown_labels[breakdown]])\n",
    "#     fig = px.histogram(\n",
    "#         plot_df,\n",
    "#         x=\"DAYSUNRESOLVED\",\n",
    "#         color=unresolved_breakdown_labels[breakdown].upper(),\n",
    "#         barmode=\"group\",\n",
    "#         marginal=\"rug\",\n",
    "#         title=f\"All unresolved tickets broken down by {breakdown}\",\n",
    "#         hover_data=plot_df.columns\n",
    "#     )\n",
    "#     fig.update_layout(\n",
    "#         bargap=0.01,\n",
    "#         yaxis_title=\"Number of tickets\",\n",
    "#         xaxis_title=\"Days unresolved\",\n",
    "#     )\n",
    "#     return fig\n",
    "# \n",
    "# _ = interact(\n",
    "#     plot_unresolved_ticket_counts,\n",
    "#     date_from = widgets.DatePicker(value=date(2019,10,1)),\n",
    "#     date_to = widgets.DatePicker(value=date(2020,1,1)),\n",
    "#     all_unresolved = widgets.Checkbox(value=False, description='All unresolved'),\n",
    "#     breakdown=widgets.Dropdown(options=unresolved_breakdown_labels.keys(), description=\"Breakdown by\"),\n",
    "# )"
   ]
  },
  {
   "cell_type": "code",
   "execution_count": 75,
   "metadata": {
    "hideCode": true,
    "hidePrompt": true,
    "pycharm": {
     "name": "#%%\n"
    }
   },
   "outputs": [
    {
     "name": "stderr",
     "output_type": "stream",
     "text": [
      "Setting feature_perturbation = \"tree_path_dependent\" because no background data was given.\n"
     ]
    }
   ],
   "source": [
    "# ('hours-1-month-real', 'encoded_model_data_development_filtered_hours_1-month_real-data.csv', \"HOURSINDEVELOPMENT\")\n",
    "base_fname = f'{data_root}/prediction_data/ticket_model'\n",
    "prediction_data = pd.read_csv(f\"{base_fname}/encoded_model_data_development_filtered_hours_1-month_real-data.csv\")\n",
    "\n",
    "def build_model(data):\n",
    "    X, y = data.iloc[:, :-1].values, data.iloc[:, -1].values\n",
    "    X_train, X_test, y_train, y_test = train_test_split(X, y, test_size=0.2, random_state=42)\n",
    "    pred_method = xgb.XGBRegressor(\n",
    "        objective='reg:squarederror',\n",
    "        colsample_bytree=0.3,\n",
    "        learning_rate=0.25,\n",
    "        max_depth=40,\n",
    "        alpha=50,\n",
    "        n_estimators=100,\n",
    "        reg_lambda=30,\n",
    "    )\n",
    "    pred_method.fit(X_train, y_train)\n",
    "    preds = pred_method.predict(X_test)\n",
    "    mae = mean_absolute_error(y_test, preds)\n",
    "    tree_explainer = shap.TreeExplainer(pred_method)\n",
    "    return pred_method, mae, tree_explainer\n",
    "\n",
    "pm, mae, te = build_model(prediction_data)\n",
    "\n",
    "model_labels = [\"video\",\"update_ami\",\"ui_changes\",\"tag_change\",\"staging_issue\",\"qa\",\"pmm_check\",\"maintainers\",\"devtest\",\"devops_label\",\"config_changes\",\"client\",\"autotested\"]\n",
    "model_components = [\"testilda\",\"services: compiler\",\"review\",\"releng\",\"production\",\"precisionMarketing\",\"pnp\",\"other: other\",\"distribution\",\"devops\",\"baking\",\"analytics\"]\n",
    "model_priorities = {\"Blocker\": 4,\"Critical\": 3,\"Major\": 2,\"Minor\": 1,\"Trivial\": 0}\n",
    "model_types = {\"Bug\": 0,\"Bug (Sub-task)\": 1,\"Epic\": 2,\"Improvement (Sub-task)\": 3,\"Internal Improvement\": 4,\"New Feature or Improvement\": 5,\"Prototype\": 6,\"Sub-task\": 7}\n",
    "model_indices = model_labels + model_components + [\"ISSUETYPE\", \"ISSUEPRIORITY\", \"NUMBEROFCOMPONENTS\", \"NUMBEROFLABELS\", \"NUMBEROFLINKEDISSUES\"]"
   ]
  },
  {
   "cell_type": "code",
   "execution_count": 76,
   "metadata": {
    "hideCode": true,
    "hidePrompt": true,
    "pycharm": {
     "name": "#%%\n"
    }
   },
   "outputs": [
    {
     "data": {
      "application/vnd.jupyter.widget-view+json": {
       "model_id": "d9fc6bc764a34204a314f282a970c13c",
       "version_major": 2,
       "version_minor": 0
      },
      "text/plain": [
       "interactive(children=(SelectMultiple(description='Labels', options=('video', 'update_ami', 'ui_changes', 'tag_…"
      ]
     },
     "metadata": {},
     "output_type": "display_data"
    }
   ],
   "source": [
    "def map_vals(orig, data):\n",
    "    mapped = [0] * len(orig)\n",
    "    for entry in data:\n",
    "        mapped[orig.index(entry)] = 1\n",
    "    return mapped\n",
    "\n",
    "\n",
    "def print_prediction(labels, components, t_priority, t_type, num_linked):\n",
    "    print(f\"Selected labels: {labels}\")\n",
    "    print(f\"Selected components: {components}\")\n",
    "    print(f\"Selected priority: {model_priorities[t_priority]}\")\n",
    "    print(f\"Selected type: {model_types[t_type]}\")\n",
    "    print(f\"Number of linked tickets: {num_linked}\")\n",
    "    test_case = map_vals(model_labels, labels) + map_vals(model_components, components) + [\n",
    "        len(components),\n",
    "        len(labels),\n",
    "        model_priorities[t_priority],\n",
    "        model_types[t_type],\n",
    "        num_linked\n",
    "    ]\n",
    "    test_case = np.asarray(test_case).T\n",
    "    test_case = test_case.reshape(1, -1)\n",
    "    prediction = pm.predict(test_case)[0]\n",
    "    print(f\"Predicted development time:\\n in hours: {prediction:.3f} ± {mae:.3f} \\n in  days: {prediction / 24:.3f} ± {mae / 24:.3f}\")\n",
    "    df = pd.DataFrame(test_case)\n",
    "    df.columns = model_indices\n",
    "    tree_shap_values = te.shap_values(df, y=prediction)\n",
    "    shap.force_plot(te.expected_value, tree_shap_values[0,:], df.iloc[0,:], matplotlib=True)\n",
    "\n",
    "_ = interact(\n",
    "    print_prediction,\n",
    "    labels=widgets.SelectMultiple(options=model_labels, description='Labels',disabled=False),\n",
    "    components=widgets.SelectMultiple(options=model_components,description='Components',disabled=False),\n",
    "    t_priority=widgets.Dropdown(options=model_priorities.keys(), description='Priority',disabled=False),\n",
    "    t_type=widgets.Dropdown(options=model_types.keys(), description='Type',disabled=False),\n",
    "    num_linked=widgets.BoundedIntText(value=0,min=0, max=100,step=1,description='Number of linked tickets:',disabled=False)\n",
    ")"
   ]
  },
  {
   "cell_type": "code",
   "execution_count": 76,
   "metadata": {
    "pycharm": {
     "name": "#%%\n"
    }
   },
   "outputs": [],
   "source": [
    "\n"
   ]
  }
 ],
 "metadata": {
  "celltoolbar": "Hide code",
  "kernelspec": {
   "display_name": "Python 3",
   "language": "python",
   "name": "python3"
  },
  "language_info": {
   "codemirror_mode": {
    "name": "ipython",
    "version": 3
   },
   "file_extension": ".py",
   "mimetype": "text/x-python",
   "name": "python",
   "nbconvert_exporter": "python",
   "pygments_lexer": "ipython3",
   "version": "3.7.6"
  }
 },
 "nbformat": 4,
 "nbformat_minor": 1
}