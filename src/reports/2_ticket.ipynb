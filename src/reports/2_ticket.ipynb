{
 "cells": [
  {
   "cell_type": "markdown",
   "metadata": {
    "collapsed": true,
    "pycharm": {
     "name": "#%% md\n"
    }
   },
   "source": [
    "# Ticket report\n"
   ]
  },
  {
   "cell_type": "code",
   "execution_count": 1,
   "metadata": {
    "pycharm": {
     "name": "#%%\n"
    }
   },
   "outputs": [
    {
     "data": {
      "text/html": [
       "        <script type=\"text/javascript\">\n",
       "        window.PlotlyConfig = {MathJaxConfig: 'local'};\n",
       "        if (window.MathJax) {MathJax.Hub.Config({SVG: {font: \"STIX-Web\"}});}\n",
       "        if (typeof require !== 'undefined') {\n",
       "        require.undef(\"plotly\");\n",
       "        requirejs.config({\n",
       "            paths: {\n",
       "                'plotly': ['https://cdn.plot.ly/plotly-latest.min']\n",
       "            }\n",
       "        });\n",
       "        require(['plotly'], function(Plotly) {\n",
       "            window._Plotly = Plotly;\n",
       "        });\n",
       "        }\n",
       "        </script>\n",
       "        "
      ]
     },
     "metadata": {},
     "output_type": "display_data"
    },
    {
     "data": {
      "text/html": [
       "        <script type=\"text/javascript\">\n",
       "        window.PlotlyConfig = {MathJaxConfig: 'local'};\n",
       "        if (window.MathJax) {MathJax.Hub.Config({SVG: {font: \"STIX-Web\"}});}\n",
       "        if (typeof require !== 'undefined') {\n",
       "        require.undef(\"plotly\");\n",
       "        requirejs.config({\n",
       "            paths: {\n",
       "                'plotly': ['https://cdn.plot.ly/plotly-latest.min']\n",
       "            }\n",
       "        });\n",
       "        require(['plotly'], function(Plotly) {\n",
       "            window._Plotly = Plotly;\n",
       "        });\n",
       "        }\n",
       "        </script>\n",
       "        "
      ]
     },
     "metadata": {},
     "output_type": "display_data"
    }
   ],
   "source": [
    "import ipywidgets as widgets\n",
    "import pandas as pd\n",
    "import plotly.graph_objects as go\n",
    "from plotly.subplots import make_subplots\n",
    "import plotly.express as px\n",
    "from plotly.offline import iplot, init_notebook_mode\n",
    "init_notebook_mode(connected=True)\n",
    "\n",
    "\n",
    "import cufflinks as cf\n",
    "cf.go_offline(connected=True)\n",
    "cf.set_config_file(colorscale='plotly', world_readable=True)\n",
    "\n",
    "# Extra options\n",
    "pd.options.display.max_rows = 30\n",
    "pd.options.display.max_columns = 25\n",
    "\n",
    "from datetime import date\n",
    "from ipywidgets import interact, interact_manual\n",
    "from src.db.utils import SnowflakeWrapper\n",
    "from src.compute.utils import Interval\n",
    "from src.compute.tickets import get_tickets\n",
    "conn = SnowflakeWrapper.create_snowflake_connection()\n",
    "sw = SnowflakeWrapper(conn)\n",
    "\n",
    "label_map = {\n",
    "    \"metrics\": {\n",
    "        \"Average hours\": \"AVG_HOUR\",\n",
    "        \"Average days\": \"AVG_DAYS\",\n",
    "        \"Degree of cycling\": \"DegreeOfCycling\",\n",
    "    },\n",
    "    \"dims\": {\n",
    "        \"Ticket Status\": \"MERGED_STATUS\",\n",
    "        \"Ticket Type\": \"IssueType\",\n",
    "        \"Ticket Priority\": \"IssuePriority\",\n",
    "        \"No color\": None\n",
    "    }\n",
    "}"
   ]
  },
  {
   "cell_type": "code",
   "execution_count": 2,
   "metadata": {
    "pycharm": {
     "name": "#%%\n"
    }
   },
   "outputs": [
    {
     "data": {
      "application/vnd.jupyter.widget-view+json": {
       "model_id": "ebf9b205b6ac4eec9c6b57a72136d29c",
       "version_major": 2,
       "version_minor": 0
      },
      "text/plain": [
       "interactive(children=(Dropdown(description='x_col', options=('Ticket Status', 'Ticket Type', 'Ticket Priority'…"
      ]
     },
     "metadata": {},
     "output_type": "display_data"
    }
   ],
   "source": [
    "def plot_distribution_counts(x_col, color_by, date_from, date_to):\n",
    "    current_interval = Interval(date_from, date_to)\n",
    "    plot_df = get_tickets(sw, current_interval)\n",
    "    return px.histogram(\n",
    "        plot_df,\n",
    "        x=label_map[\"dims\"][x_col],\n",
    "        color=label_map[\"dims\"][color_by],\n",
    "        barmode=\"group\",\n",
    "        title=f\"Resolved tickets [{len(plot_df.index)}] on the interval {current_interval.pretty_str()}\",\n",
    "        hover_data=plot_df.columns,\n",
    "        labels = {\n",
    "            label_map[\"dims\"][x_col]: x_col,\n",
    "            label_map[\"dims\"][color_by]: color_by,\n",
    "            \"count\": \"Number of tickets\"\n",
    "        }\n",
    "    )\n",
    "\n",
    "_ = interact(\n",
    "        plot_distribution_counts,\n",
    "        x_col=widgets.Dropdown(options=label_map[\"dims\"].keys()),\n",
    "        color_by=widgets.Dropdown(options=label_map[\"dims\"].keys()),\n",
    "        date_from=widgets.DatePicker(value=pd.to_datetime('2019-10-01')),\n",
    "        date_to=widgets.DatePicker(value=pd.to_datetime('2020-01-01'))\n",
    "    )"
   ]
  },
  {
   "cell_type": "code",
   "execution_count": 6,
   "metadata": {
    "pycharm": {
     "name": "#%%\n"
    }
   },
   "outputs": [
    {
     "data": {
      "application/vnd.jupyter.widget-view+json": {
       "model_id": "4ae68eec4f5e4870aa1bf97bd4e4eaef",
       "version_major": 2,
       "version_minor": 0
      },
      "text/plain": [
       "interactive(children=(Dropdown(description='x_col', options=('Average hours', 'Average days', 'Degree of cycli…"
      ]
     },
     "metadata": {},
     "output_type": "display_data"
    }
   ],
   "source": [
    "def plot_metric_counts(x_col, color_by, date_from, date_to):\n",
    "    current_interval = Interval(date_from, date_to)\n",
    "    plot_df = get_tickets(sw, current_interval)\n",
    "    bins = int(plot_df[label_map[\"metrics\"][x_col]].max() - plot_df[label_map[\"metrics\"][x_col]].min())\n",
    "    max_bins = 30\n",
    "    print(f\"bins = {bins}\")\n",
    "    if label_map[\"metrics\"][x_col] == \"AVG_HOUR\":\n",
    "        bins = int(bins/8)\n",
    "    if bins > max_bins:\n",
    "        plot_df[label_map[\"metrics\"][x_col]] = plot_df[label_map[\"metrics\"][x_col]].apply(lambda x: min(max_bins, x))\n",
    "        bins = max_bins\n",
    "    print(f\"bins = {bins}\")\n",
    "    return px.histogram(\n",
    "        plot_df,\n",
    "        x=label_map[\"metrics\"][x_col],\n",
    "        color=label_map[\"dims\"][color_by],\n",
    "        nbins=bins,\n",
    "        barmode=\"group\",\n",
    "        title=f\"Resolved tickets [{len(plot_df.index)}] on the interval {current_interval.pretty_str()}\",\n",
    "        hover_data=plot_df.columns,\n",
    "        template=\"ggplot2\",\n",
    "        labels = {\n",
    "            label_map[\"metrics\"][x_col]: x_col,\n",
    "            label_map[\"dims\"][color_by]: color_by,\n",
    "            \"count\": \"Number of tickets\"\n",
    "        }\n",
    "    )\n",
    "\n",
    "_ = interact(\n",
    "        plot_metric_counts,\n",
    "        x_col=widgets.Dropdown(options=label_map[\"metrics\"].keys()),\n",
    "        color_by=widgets.Dropdown(options=label_map[\"dims\"].keys()),\n",
    "        date_from = widgets.DatePicker(value=pd.to_datetime('2019-10-01')),\n",
    "        date_to = widgets.DatePicker(value=pd.to_datetime('2020-01-01'))\n",
    "    )\n"
   ]
  }
 ],
 "metadata": {
  "kernelspec": {
   "display_name": "Python 3",
   "language": "python",
   "name": "python3"
  },
  "language_info": {
   "codemirror_mode": {
    "name": "ipython",
    "version": 3
   },
   "file_extension": ".py",
   "mimetype": "text/x-python",
   "name": "python",
   "nbconvert_exporter": "python",
   "pygments_lexer": "ipython3",
   "version": "3.7.6"
  }
 },
 "nbformat": 4,
 "nbformat_minor": 1
}