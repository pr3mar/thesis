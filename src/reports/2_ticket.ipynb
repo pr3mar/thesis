{
 "cells": [
  {
   "cell_type": "markdown",
   "metadata": {
    "collapsed": true,
    "pycharm": {
     "name": "#%% md\n"
    }
   },
   "source": [
    "# Ticket report\n"
   ]
  },
  {
   "cell_type": "code",
   "execution_count": 82,
   "metadata": {
    "hideCode": true,
    "hidePrompt": true,
    "pycharm": {
     "name": "#%%\n"
    }
   },
   "outputs": [
    {
     "data": {
      "text/html": [
       "        <script type=\"text/javascript\">\n",
       "        window.PlotlyConfig = {MathJaxConfig: 'local'};\n",
       "        if (window.MathJax) {MathJax.Hub.Config({SVG: {font: \"STIX-Web\"}});}\n",
       "        if (typeof require !== 'undefined') {\n",
       "        require.undef(\"plotly\");\n",
       "        requirejs.config({\n",
       "            paths: {\n",
       "                'plotly': ['https://cdn.plot.ly/plotly-latest.min']\n",
       "            }\n",
       "        });\n",
       "        require(['plotly'], function(Plotly) {\n",
       "            window._Plotly = Plotly;\n",
       "        });\n",
       "        }\n",
       "        </script>\n",
       "        "
      ]
     },
     "metadata": {},
     "output_type": "display_data"
    },
    {
     "data": {
      "text/html": [
       "        <script type=\"text/javascript\">\n",
       "        window.PlotlyConfig = {MathJaxConfig: 'local'};\n",
       "        if (window.MathJax) {MathJax.Hub.Config({SVG: {font: \"STIX-Web\"}});}\n",
       "        if (typeof require !== 'undefined') {\n",
       "        require.undef(\"plotly\");\n",
       "        requirejs.config({\n",
       "            paths: {\n",
       "                'plotly': ['https://cdn.plot.ly/plotly-latest.min']\n",
       "            }\n",
       "        });\n",
       "        require(['plotly'], function(Plotly) {\n",
       "            window._Plotly = Plotly;\n",
       "        });\n",
       "        }\n",
       "        </script>\n",
       "        "
      ]
     },
     "metadata": {},
     "output_type": "display_data"
    }
   ],
   "source": [
    "import random\n",
    "import ipywidgets as widgets\n",
    "import pandas as pd\n",
    "import plotly.graph_objects as go\n",
    "from plotly.subplots import make_subplots\n",
    "import plotly.express as px\n",
    "from plotly.offline import iplot, init_notebook_mode\n",
    "init_notebook_mode(connected=True)\n",
    "\n",
    "\n",
    "import cufflinks as cf\n",
    "cf.go_offline(connected=True)\n",
    "cf.set_config_file(colorscale='plotly', world_readable=True)\n",
    "\n",
    "# Extra options\n",
    "pd.options.display.max_rows = 30\n",
    "pd.options.display.max_columns = 25\n",
    "\n",
    "from datetime import date\n",
    "import src.compute.changelogs as changelogs\n",
    "from ipywidgets import interact\n",
    "from src.db.utils import SnowflakeWrapper\n",
    "from src.compute.utils import Interval\n",
    "from src.compute.tickets import get_tickets\n",
    "\n",
    "conn = SnowflakeWrapper.create_snowflake_connection()\n",
    "sw = SnowflakeWrapper(conn)\n",
    "\n",
    "label_map = {\n",
    "    \"metrics\": {\n",
    "        \"Average hours\": \"AVG_HOUR\",\n",
    "        \"Average days\": \"AVG_DAYS\",\n",
    "        \"Degree of cycling\": \"DegreeOfCycling\",\n",
    "    },\n",
    "    \"dims\": {\n",
    "        \"Ticket Status\": \"MERGED_STATUS\",\n",
    "        \"Ticket Type\": \"IssueType\",\n",
    "        \"Ticket Priority\": \"IssuePriority\",\n",
    "        \"No color\": None\n",
    "    }\n",
    "}"
   ]
  },
  {
   "cell_type": "code",
   "execution_count": 83,
   "metadata": {
    "hideCode": true,
    "hidePrompt": true,
    "pycharm": {
     "name": "#%%\n"
    }
   },
   "outputs": [
    {
     "data": {
      "application/vnd.jupyter.widget-view+json": {
       "model_id": "e0d008f67b394875b2a647f484665f9d",
       "version_major": 2,
       "version_minor": 0
      },
      "text/plain": [
       "interactive(children=(Dropdown(description='Metric', options=('Ticket Status', 'Ticket Type', 'Ticket Priority…"
      ]
     },
     "metadata": {},
     "output_type": "display_data"
    }
   ],
   "source": [
    "# Inter-dependency of the dimensions\n",
    "\n",
    "def plot_distribution_counts(x_col, color_by, date_from, date_to, max_days):\n",
    "    current_interval = Interval(date_from, date_to)\n",
    "    plot_df = get_tickets(sw, current_interval, max_days=max_days)\n",
    "    return px.histogram(\n",
    "        plot_df,\n",
    "        x=label_map[\"dims\"][x_col],\n",
    "        color=label_map[\"dims\"][color_by],\n",
    "        barmode=\"group\",\n",
    "        title=f\"There are {len(plot_df.index)} resolved tickets on the interval {current_interval.pretty_str()}\",\n",
    "        hover_data=plot_df.columns,\n",
    "        labels = {\n",
    "            label_map[\"dims\"][x_col]: x_col,\n",
    "            label_map[\"dims\"][color_by]: color_by,\n",
    "            \"count\": \"Number of tickets\"\n",
    "        }\n",
    "    )\n",
    "\n",
    "_ = interact(\n",
    "        plot_distribution_counts,\n",
    "        x_col=widgets.Dropdown(options=label_map[\"dims\"].keys(), description=\"Metric\"),\n",
    "        color_by=widgets.Dropdown(options=label_map[\"dims\"].keys(), description=\"Colour by\"),\n",
    "        date_from=widgets.DatePicker(value=pd.to_datetime('2019-10-01'), description=\"Date from\"),\n",
    "        date_to=widgets.DatePicker(value=pd.to_datetime('2020-01-01'), description=\"Date to\"),\n",
    "        max_days=widgets.IntSlider(value=10, min=0, max=30, description=\"Max days to resolve\")\n",
    "    )"
   ]
  },
  {
   "cell_type": "code",
   "execution_count": 84,
   "metadata": {
    "hideCode": true,
    "hidePrompt": true,
    "pycharm": {
     "name": "#%%\n"
    }
   },
   "outputs": [
    {
     "data": {
      "application/vnd.jupyter.widget-view+json": {
       "model_id": "0041d811013b4b5693a921dd046081a3",
       "version_major": 2,
       "version_minor": 0
      },
      "text/plain": [
       "interactive(children=(Dropdown(description='Metric', options=('Average hours', 'Average days', 'Degree of cycl…"
      ]
     },
     "metadata": {},
     "output_type": "display_data"
    }
   ],
   "source": [
    "# Metric distribution by different dimensions\n",
    "\n",
    "def plot_metric_counts(x_col, color_by, date_from, date_to, max_days):\n",
    "    current_interval = Interval(date_from, date_to)\n",
    "    plot_df = get_tickets(sw, current_interval, max_days=max_days)\n",
    "    bins = int(plot_df[label_map[\"metrics\"][x_col]].max() - plot_df[label_map[\"metrics\"][x_col]].min()) + 1\n",
    "    max_bins = 30\n",
    "    if label_map[\"metrics\"][x_col] == \"AVG_HOUR\":\n",
    "        bins = int(bins/8)\n",
    "    if bins > max_bins:\n",
    "        plot_df[label_map[\"metrics\"][x_col]] = plot_df[label_map[\"metrics\"][x_col]].apply(lambda x: min(max_bins, x))\n",
    "        bins = max_bins\n",
    "    # TODO: add fig.update_layout(bargroupgap=0.01)\n",
    "    return px.histogram(\n",
    "        plot_df,\n",
    "        x=label_map[\"metrics\"][x_col],\n",
    "        color=label_map[\"dims\"][color_by],\n",
    "        nbins=bins,\n",
    "        barmode=\"group\",\n",
    "        title=f\"There are {len(plot_df.index)} resolved tickets on the interval {current_interval.pretty_str()}\",\n",
    "        hover_data=plot_df.columns,\n",
    "        template=\"ggplot2\",\n",
    "        labels = {\n",
    "            label_map[\"metrics\"][x_col]: x_col,\n",
    "            label_map[\"dims\"][color_by]: color_by,\n",
    "            \"count\": \"Number of tickets\"\n",
    "        }\n",
    "    )\n",
    "\n",
    "\n",
    "_ = interact(\n",
    "        plot_metric_counts,\n",
    "        x_col=widgets.Dropdown(options=label_map[\"metrics\"].keys(), description=\"Metric\"),\n",
    "        color_by=widgets.Dropdown(options=label_map[\"dims\"].keys(), description=\"Colour by\"),\n",
    "        date_from=widgets.DatePicker(value=pd.to_datetime('2019-10-01'), description=\"Date from\"),\n",
    "        date_to=widgets.DatePicker(value=pd.to_datetime('2020-01-01'), description=\"Date to\"),\n",
    "        max_days=widgets.IntSlider(value=10, min=0, max=30, description=\"Max days to resolve\")\n",
    "    )"
   ]
  },
  {
   "cell_type": "code",
   "execution_count": null,
   "metadata": {
    "hideCode": true,
    "hidePrompt": true,
    "pycharm": {
     "is_executing": true,
     "name": "#%%\n"
    }
   },
   "outputs": [
    {
     "data": {
      "application/vnd.jupyter.widget-view+json": {
       "model_id": "d8f82857f69747feade6c4319788dd34",
       "version_major": 2,
       "version_minor": 0
      },
      "text/plain": [
       "interactive(children=(Dropdown(description='Dimension', options=('Transition', 'Issue type', 'Issue priority')…"
      ]
     },
     "metadata": {},
     "output_type": "display_data"
    }
   ],
   "source": [
    "dimensions = {\n",
    "    \"Transition\": \"Transition\",\n",
    "    \"Issue type\": \"IssueType\",\n",
    "    \"Issue priority\": \"IssuePriority\"\n",
    "}\n",
    "\n",
    "# Ticket transitions\n",
    "def plot_jira_activity(by, date_from, date_to, max_plots):\n",
    "    active_interval = Interval(date_from, date_to)\n",
    "    current_dim = dimensions[by]\n",
    "    by_status = current_dim == \"Transition\"\n",
    "    by_issue_type = current_dim == \"IssueType\"\n",
    "    by_issue_priority = current_dim == \"IssuePriority\"\n",
    "    plot_df = changelogs.transition_frequency(sw, interval=active_interval, limit=-1, by_status=by_status, by_issue_priority=by_issue_priority, by_issue_type=by_issue_type, by_week=True, order=\"ASC\")\n",
    "    max_val, min_val  = plot_df[\"WeekOfYear\"].max(), plot_df[\"WeekOfYear\"].min()\n",
    "    dimension_occurences = sorted([ (transition, plot_df.loc[plot_df[current_dim] == transition, \"TotalTransitions\"].sum()) for transition in (plot_df[current_dim].unique())], key=lambda x: x[1], reverse=True)\n",
    "    fig = go.Figure()\n",
    "    all_df = plot_df.groupby(by=[\"Year\", \"WeekOfYear\"]).agg(['sum'], axis=\"columns\").drop(columns=[current_dim]).reset_index()\n",
    "    fig.add_trace(\n",
    "        go.Scatter(\n",
    "            x=all_df[\"WeekOfYear\"],\n",
    "            y=all_df[\"TotalTransitions\"][\"sum\"],\n",
    "            mode='lines+markers',\n",
    "            name=f'All transitions = [{plot_df[\"TotalTransitions\"].sum()}]'\n",
    "        )\n",
    "    )\n",
    "    for dimension_val, cum_sum in dimension_occurences[:max_plots]:\n",
    "        tr_data = plot_df.loc[plot_df[current_dim] == dimension_val]\n",
    "        fig.add_trace(\n",
    "            go.Scatter(\n",
    "                x=tr_data[\"WeekOfYear\"],\n",
    "                y=tr_data[\"TotalTransitions\"],\n",
    "                mode='lines+markers',\n",
    "                name=f\"{dimension_val}, overall: [{cum_sum}]\",\n",
    "            )\n",
    "        )\n",
    "    fig.update_layout(\n",
    "        title=\"Ticket transition frequency by week\",\n",
    "        xaxis = dict(\n",
    "            range=[min_val - 1, max_val + 1],  # sets the range of xaxis\n",
    "            tickmode='linear'\n",
    "        ),\n",
    "    )\n",
    "    return fig\n",
    "\n",
    "_ = interact(\n",
    "    plot_jira_activity,\n",
    "    by=widgets.Dropdown(options=dimensions.keys(), description=\"Dimension\"),\n",
    "    date_from=widgets.DatePicker(value=pd.to_datetime('2019-10-01'), description=\"Date from\"),\n",
    "    date_to=widgets.DatePicker(value=pd.to_datetime('2020-01-01'), description=\"Date to\"),\n",
    "    max_plots=widgets.IntSlider(value=5, min=1, max=10, description=\"Max graphs to plot\"),\n",
    ")"
   ]
  }
 ],
 "metadata": {
  "celltoolbar": "Hide code",
  "kernelspec": {
   "display_name": "Python 3",
   "language": "python",
   "name": "python3"
  },
  "language_info": {
   "codemirror_mode": {
    "name": "ipython",
    "version": 3
   },
   "file_extension": ".py",
   "mimetype": "text/x-python",
   "name": "python",
   "nbconvert_exporter": "python",
   "pygments_lexer": "ipython3",
   "version": "3.7.6"
  }
 },
 "nbformat": 4,
 "nbformat_minor": 1
}