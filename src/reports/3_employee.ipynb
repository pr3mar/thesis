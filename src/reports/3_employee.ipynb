{
 "cells": [
  {
   "cell_type": "markdown",
   "metadata": {
    "collapsed": true,
    "pycharm": {
     "name": "#%% md\n"
    }
   },
   "source": [
    "# Employee report"
   ]
  },
  {
   "cell_type": "code",
   "execution_count": 4,
   "metadata": {
    "hideCode": true,
    "hidePrompt": true,
    "pycharm": {
     "name": "#%%\n"
    }
   },
   "outputs": [
    {
     "data": {
      "text/html": "        <script type=\"text/javascript\">\n        window.PlotlyConfig = {MathJaxConfig: 'local'};\n        if (window.MathJax) {MathJax.Hub.Config({SVG: {font: \"STIX-Web\"}});}\n        if (typeof require !== 'undefined') {\n        require.undef(\"plotly\");\n        requirejs.config({\n            paths: {\n                'plotly': ['https://cdn.plot.ly/plotly-latest.min']\n            }\n        });\n        require(['plotly'], function(Plotly) {\n            window._Plotly = Plotly;\n        });\n        }\n        </script>\n        "
     },
     "metadata": {},
     "output_type": "display_data"
    },
    {
     "data": {
      "text/html": "        <script type=\"text/javascript\">\n        window.PlotlyConfig = {MathJaxConfig: 'local'};\n        if (window.MathJax) {MathJax.Hub.Config({SVG: {font: \"STIX-Web\"}});}\n        if (typeof require !== 'undefined') {\n        require.undef(\"plotly\");\n        requirejs.config({\n            paths: {\n                'plotly': ['https://cdn.plot.ly/plotly-latest.min']\n            }\n        });\n        require(['plotly'], function(Plotly) {\n            window._Plotly = Plotly;\n        });\n        }\n        </script>\n        "
     },
     "metadata": {},
     "output_type": "display_data"
    }
   ],
   "source": [
    "import random\n",
    "import ipywidgets as widgets\n",
    "import pandas as pd\n",
    "from datetime import date, datetime\n",
    "import plotly.graph_objects as go\n",
    "from plotly.subplots import make_subplots\n",
    "import plotly.express as px\n",
    "from plotly.offline import iplot, init_notebook_mode\n",
    "init_notebook_mode(connected=True)\n",
    "\n",
    "\n",
    "import cufflinks as cf\n",
    "cf.go_offline(connected=True)\n",
    "cf.set_config_file(colorscale='plotly', world_readable=True)\n",
    "\n",
    "# Extra options\n",
    "pd.options.display.max_rows = 30\n",
    "pd.options.display.max_columns = 25\n",
    "\n",
    "from datetime import date\n",
    "import src.compute.changelogs as changelogs\n",
    "from ipywidgets import interact\n",
    "from src.db.utils import SnowflakeWrapper\n",
    "from src.compute.utils import Interval, get_statuses\n",
    "from src.compute.developer import get_developers, get_developer_ids, tickets_assigned_in_interval\n",
    "from src.compute.tickets import get_ticket_priorities, get_ticket_types\n",
    "\n",
    "conn = SnowflakeWrapper.create_snowflake_connection()\n",
    "sw = SnowflakeWrapper(conn)\n",
    "\n",
    "dev_ids = get_developer_ids(sw)\n",
    "ticket_statuses = {val:val for val in get_statuses()}\n",
    "ticket_statuses[\"All\"] = None\n",
    "priorities = {val:val for val in get_ticket_priorities(sw)}\n",
    "priorities[\"All\"] = None\n",
    "types = {val:val for val in get_ticket_types(sw)}\n",
    "types[\"All\"] = None"
   ]
  },
  {
   "cell_type": "code",
   "execution_count": 5,
   "metadata": {
    "hideCode": true,
    "hidePrompt": true,
    "pycharm": {
     "name": "#%%\n"
    }
   },
   "outputs": [
    {
     "data": {
      "text/plain": "interactive(children=(Text(value='marko.prelevikj', description='Choose Developer', placeholder='Developer ID'…",
      "application/vnd.jupyter.widget-view+json": {
       "version_major": 2,
       "version_minor": 0,
       "model_id": "0799b23d45074a01b5c0702682165e2d"
      }
     },
     "metadata": {},
     "output_type": "display_data"
    }
   ],
   "source": [
    "label_map = {\n",
    "    \"metrics\": {\n",
    "        \"Average days\": \"AVG_DAYS\",\n",
    "        \"Degree of cycling\": \"DegreeOfCycling\",\n",
    "    },\n",
    "    \"dims\": {\n",
    "        \"type\":  'IssueType',\n",
    "        \"priority\": 'IssuePriority',\n",
    "        \"status\": \"MERGED_STATUS\",\n",
    "    }\n",
    "}\n",
    "\n",
    "def plot_distribution_counts(dev_id, status, x_col, ipriority, itype, date_from, date_to, max_days):\n",
    "    current_interval = Interval(date_from, date_to)\n",
    "    plot_df = get_developers(\n",
    "        sw,\n",
    "        current_interval,\n",
    "        user_filters={\n",
    "            \"status\": ticket_statuses[status],\n",
    "            \"priority\": priorities[ipriority],\n",
    "            \"type\": types[itype],\n",
    "        },\n",
    "        max_duration=max_days\n",
    "    )\n",
    "    if plot_df.empty:\n",
    "        print(\"No data for chosen combination.\")\n",
    "        return\n",
    "    chosen_dev = plot_df.loc[plot_df[\"ASSIGNEE\"] == dev_id]\n",
    "    metric = label_map[\"metrics\"][x_col]\n",
    "    max_val, min_val  = plot_df[metric].max(), plot_df[metric].min()\n",
    "    bins = int(plot_df[label_map[\"metrics\"][x_col]].max() - plot_df[label_map[\"metrics\"][x_col]].min()) + 1\n",
    "    fig = px.histogram(\n",
    "        plot_df,\n",
    "        x=label_map[\"metrics\"][x_col],\n",
    "        # color=\"ASSIGNEE\",  # this de-anonymizes the data and ranks all the devs transparently\n",
    "        title=f\"There are {len(plot_df.index)} active developers on the interval {current_interval.pretty_str()}\",\n",
    "        hover_data=plot_df.columns,\n",
    "        nbins=bins,\n",
    "        labels = {\n",
    "            metric: x_col,\n",
    "        }\n",
    "    )\n",
    "    if not chosen_dev.empty:\n",
    "        mean_val = chosen_dev[metric].iloc[0]\n",
    "        fig.update_layout(shapes=[\n",
    "            dict(\n",
    "                type='line',\n",
    "                yref='paper', y0= 0, y1= 1,\n",
    "                xref='x', x0= mean_val, x1= mean_val,\n",
    "                line=dict(\n",
    "                    color=\"Red\",\n",
    "                    width=4,\n",
    "                    dash=\"dashdot\",\n",
    "                )\n",
    "            )\n",
    "        ])\n",
    "    fig.update_layout(\n",
    "        xaxis = dict(\n",
    "            range=[min_val - 1, max_val + 1],  # sets the range of xaxis\n",
    "            tickmode='linear'\n",
    "        ),\n",
    "        bargap=0.01\n",
    "    )\n",
    "    return fig\n",
    "\n",
    "_ = interact(\n",
    "        plot_distribution_counts,\n",
    "        dev_id=widgets.widgets.Text(value='marko.prelevikj', placeholder='Developer ID', description='Choose Developer', disabled=False),\n",
    "        x_col=widgets.Dropdown(options=label_map[\"metrics\"].keys(), description=\"Metric\"),\n",
    "        status=widgets.Dropdown(options=sorted(ticket_statuses.keys()), description=\"Ticket status\"),\n",
    "        ipriority=widgets.Dropdown(options=sorted(priorities.keys()), description=\"Ticket priority\"),\n",
    "        itype=widgets.Dropdown(options=sorted(types.keys()), description=\"Ticket type\"),\n",
    "        date_from=widgets.DatePicker(value=pd.to_datetime('2019-10-01'), description=\"Date from\"),\n",
    "        date_to=widgets.DatePicker(value=pd.to_datetime('2020-01-01'), description=\"Date to\"),\n",
    "        max_days=widgets.IntSlider(value=10, min=1, max=30, description=\"Max days to resolve\")\n",
    "    )"
   ]
  },
  {
   "cell_type": "code",
   "execution_count": 6,
   "metadata": {
    "hideCode": true,
    "hidePrompt": true,
    "pycharm": {
     "name": "#%%\n"
    }
   },
   "outputs": [
    {
     "ename": "ValueError",
     "evalue": "cannot find widget or abbreviation for argument: 'combo'",
     "output_type": "error",
     "traceback": [
      "\u001B[0;31m---------------------------------------------------------------------------\u001B[0m",
      "\u001B[0;31mValueError\u001B[0m                                Traceback (most recent call last)",
      "\u001B[0;32m<ipython-input-6-2cb02d29a496>\u001B[0m in \u001B[0;36m<module>\u001B[0;34m\u001B[0m\n\u001B[1;32m     23\u001B[0m         \u001B[0mdev_id\u001B[0m\u001B[0;34m=\u001B[0m\u001B[0mwidgets\u001B[0m\u001B[0;34m.\u001B[0m\u001B[0mwidgets\u001B[0m\u001B[0;34m.\u001B[0m\u001B[0mText\u001B[0m\u001B[0;34m(\u001B[0m\u001B[0mvalue\u001B[0m\u001B[0;34m=\u001B[0m\u001B[0;34m'marko.prelevikj'\u001B[0m\u001B[0;34m,\u001B[0m \u001B[0mplaceholder\u001B[0m\u001B[0;34m=\u001B[0m\u001B[0;34m'Developer ID'\u001B[0m\u001B[0;34m,\u001B[0m \u001B[0mdescription\u001B[0m\u001B[0;34m=\u001B[0m\u001B[0;34m'Choose Developer'\u001B[0m\u001B[0;34m,\u001B[0m \u001B[0mdisabled\u001B[0m\u001B[0;34m=\u001B[0m\u001B[0;32mFalse\u001B[0m\u001B[0;34m)\u001B[0m\u001B[0;34m,\u001B[0m\u001B[0;34m\u001B[0m\u001B[0;34m\u001B[0m\u001B[0m\n\u001B[1;32m     24\u001B[0m         \u001B[0mdate_from\u001B[0m\u001B[0;34m=\u001B[0m\u001B[0mwidgets\u001B[0m\u001B[0;34m.\u001B[0m\u001B[0mDatePicker\u001B[0m\u001B[0;34m(\u001B[0m\u001B[0mvalue\u001B[0m\u001B[0;34m=\u001B[0m\u001B[0mdate\u001B[0m\u001B[0;34m(\u001B[0m\u001B[0;36m2019\u001B[0m\u001B[0;34m,\u001B[0m\u001B[0;36m10\u001B[0m\u001B[0;34m,\u001B[0m\u001B[0;36m1\u001B[0m\u001B[0;34m)\u001B[0m\u001B[0;34m,\u001B[0m \u001B[0mdescription\u001B[0m\u001B[0;34m=\u001B[0m\u001B[0;34m\"Date from\"\u001B[0m\u001B[0;34m)\u001B[0m\u001B[0;34m,\u001B[0m\u001B[0;34m\u001B[0m\u001B[0;34m\u001B[0m\u001B[0m\n\u001B[0;32m---> 25\u001B[0;31m         \u001B[0mdate_to\u001B[0m\u001B[0;34m=\u001B[0m\u001B[0mwidgets\u001B[0m\u001B[0;34m.\u001B[0m\u001B[0mDatePicker\u001B[0m\u001B[0;34m(\u001B[0m\u001B[0mvalue\u001B[0m\u001B[0;34m=\u001B[0m\u001B[0mdate\u001B[0m\u001B[0;34m(\u001B[0m\u001B[0;36m2020\u001B[0m\u001B[0;34m,\u001B[0m \u001B[0;36m1\u001B[0m\u001B[0;34m,\u001B[0m \u001B[0;36m1\u001B[0m\u001B[0;34m)\u001B[0m\u001B[0;34m,\u001B[0m \u001B[0mdescription\u001B[0m\u001B[0;34m=\u001B[0m\u001B[0;34m\"Date to\"\u001B[0m\u001B[0;34m)\u001B[0m\u001B[0;34m,\u001B[0m\u001B[0;34m\u001B[0m\u001B[0;34m\u001B[0m\u001B[0m\n\u001B[0m\u001B[1;32m     26\u001B[0m     )\n",
      "\u001B[0;32m~/.local/share/virtualenvs/thesis-cJayiytx/lib/python3.7/site-packages/ipywidgets/widgets/interaction.py\u001B[0m in \u001B[0;36m__call__\u001B[0;34m(self, _InteractFactory__interact_f, **kwargs)\u001B[0m\n\u001B[1;32m    526\u001B[0m         \u001B[0;31m#    def f(*args, **kwargs):\u001B[0m\u001B[0;34m\u001B[0m\u001B[0;34m\u001B[0m\u001B[0;34m\u001B[0m\u001B[0m\n\u001B[1;32m    527\u001B[0m         \u001B[0;31m#        ...\u001B[0m\u001B[0;34m\u001B[0m\u001B[0;34m\u001B[0m\u001B[0;34m\u001B[0m\u001B[0m\n\u001B[0;32m--> 528\u001B[0;31m         \u001B[0mw\u001B[0m \u001B[0;34m=\u001B[0m \u001B[0mself\u001B[0m\u001B[0;34m.\u001B[0m\u001B[0mwidget\u001B[0m\u001B[0;34m(\u001B[0m\u001B[0mf\u001B[0m\u001B[0;34m)\u001B[0m\u001B[0;34m\u001B[0m\u001B[0;34m\u001B[0m\u001B[0m\n\u001B[0m\u001B[1;32m    529\u001B[0m         \u001B[0;32mtry\u001B[0m\u001B[0;34m:\u001B[0m\u001B[0;34m\u001B[0m\u001B[0;34m\u001B[0m\u001B[0m\n\u001B[1;32m    530\u001B[0m             \u001B[0mf\u001B[0m\u001B[0;34m.\u001B[0m\u001B[0mwidget\u001B[0m \u001B[0;34m=\u001B[0m \u001B[0mw\u001B[0m\u001B[0;34m\u001B[0m\u001B[0;34m\u001B[0m\u001B[0m\n",
      "\u001B[0;32m~/.local/share/virtualenvs/thesis-cJayiytx/lib/python3.7/site-packages/ipywidgets/widgets/interaction.py\u001B[0m in \u001B[0;36mwidget\u001B[0;34m(self, f)\u001B[0m\n\u001B[1;32m    442\u001B[0m             \u001B[0mThe\u001B[0m \u001B[0mfunction\u001B[0m \u001B[0mto\u001B[0m \u001B[0mwhich\u001B[0m \u001B[0mthe\u001B[0m \u001B[0minteractive\u001B[0m \u001B[0mwidgets\u001B[0m \u001B[0mare\u001B[0m \u001B[0mtied\u001B[0m\u001B[0;34m.\u001B[0m\u001B[0;34m\u001B[0m\u001B[0;34m\u001B[0m\u001B[0m\n\u001B[1;32m    443\u001B[0m         \"\"\"\n\u001B[0;32m--> 444\u001B[0;31m         \u001B[0;32mreturn\u001B[0m \u001B[0mself\u001B[0m\u001B[0;34m.\u001B[0m\u001B[0mcls\u001B[0m\u001B[0;34m(\u001B[0m\u001B[0mf\u001B[0m\u001B[0;34m,\u001B[0m \u001B[0mself\u001B[0m\u001B[0;34m.\u001B[0m\u001B[0mopts\u001B[0m\u001B[0;34m,\u001B[0m \u001B[0;34m**\u001B[0m\u001B[0mself\u001B[0m\u001B[0;34m.\u001B[0m\u001B[0mkwargs\u001B[0m\u001B[0;34m)\u001B[0m\u001B[0;34m\u001B[0m\u001B[0;34m\u001B[0m\u001B[0m\n\u001B[0m\u001B[1;32m    445\u001B[0m \u001B[0;34m\u001B[0m\u001B[0m\n\u001B[1;32m    446\u001B[0m     \u001B[0;32mdef\u001B[0m \u001B[0m__call__\u001B[0m\u001B[0;34m(\u001B[0m\u001B[0mself\u001B[0m\u001B[0;34m,\u001B[0m \u001B[0m__interact_f\u001B[0m\u001B[0;34m=\u001B[0m\u001B[0;32mNone\u001B[0m\u001B[0;34m,\u001B[0m \u001B[0;34m**\u001B[0m\u001B[0mkwargs\u001B[0m\u001B[0;34m)\u001B[0m\u001B[0;34m:\u001B[0m\u001B[0;34m\u001B[0m\u001B[0;34m\u001B[0m\u001B[0m\n",
      "\u001B[0;32m~/.local/share/virtualenvs/thesis-cJayiytx/lib/python3.7/site-packages/ipywidgets/widgets/interaction.py\u001B[0m in \u001B[0;36m__init__\u001B[0;34m(self, _interactive__interact_f, _interactive__options, **kwargs)\u001B[0m\n\u001B[1;32m    186\u001B[0m         \u001B[0mself\u001B[0m\u001B[0;34m.\u001B[0m\u001B[0mauto_display\u001B[0m \u001B[0;34m=\u001B[0m \u001B[0m__options\u001B[0m\u001B[0;34m.\u001B[0m\u001B[0mget\u001B[0m\u001B[0;34m(\u001B[0m\u001B[0;34m\"auto_display\"\u001B[0m\u001B[0;34m,\u001B[0m \u001B[0;32mFalse\u001B[0m\u001B[0;34m)\u001B[0m\u001B[0;34m\u001B[0m\u001B[0;34m\u001B[0m\u001B[0m\n\u001B[1;32m    187\u001B[0m \u001B[0;34m\u001B[0m\u001B[0m\n\u001B[0;32m--> 188\u001B[0;31m         \u001B[0mnew_kwargs\u001B[0m \u001B[0;34m=\u001B[0m \u001B[0mself\u001B[0m\u001B[0;34m.\u001B[0m\u001B[0mfind_abbreviations\u001B[0m\u001B[0;34m(\u001B[0m\u001B[0mkwargs\u001B[0m\u001B[0;34m)\u001B[0m\u001B[0;34m\u001B[0m\u001B[0;34m\u001B[0m\u001B[0m\n\u001B[0m\u001B[1;32m    189\u001B[0m         \u001B[0;31m# Before we proceed, let's make sure that the user has passed a set of args+kwargs\u001B[0m\u001B[0;34m\u001B[0m\u001B[0;34m\u001B[0m\u001B[0;34m\u001B[0m\u001B[0m\n\u001B[1;32m    190\u001B[0m         \u001B[0;31m# that will lead to a valid call of the function. This protects against unspecified\u001B[0m\u001B[0;34m\u001B[0m\u001B[0;34m\u001B[0m\u001B[0;34m\u001B[0m\u001B[0m\n",
      "\u001B[0;32m~/.local/share/virtualenvs/thesis-cJayiytx/lib/python3.7/site-packages/ipywidgets/widgets/interaction.py\u001B[0m in \u001B[0;36mfind_abbreviations\u001B[0;34m(self, kwargs)\u001B[0m\n\u001B[1;32m    286\u001B[0m             \u001B[0;32mfor\u001B[0m \u001B[0mname\u001B[0m\u001B[0;34m,\u001B[0m \u001B[0mvalue\u001B[0m\u001B[0;34m,\u001B[0m \u001B[0mdefault\u001B[0m \u001B[0;32min\u001B[0m \u001B[0m_yield_abbreviations_for_parameter\u001B[0m\u001B[0;34m(\u001B[0m\u001B[0mparam\u001B[0m\u001B[0;34m,\u001B[0m \u001B[0mkwargs\u001B[0m\u001B[0;34m)\u001B[0m\u001B[0;34m:\u001B[0m\u001B[0;34m\u001B[0m\u001B[0;34m\u001B[0m\u001B[0m\n\u001B[1;32m    287\u001B[0m                 \u001B[0;32mif\u001B[0m \u001B[0mvalue\u001B[0m \u001B[0;32mis\u001B[0m \u001B[0mempty\u001B[0m\u001B[0;34m:\u001B[0m\u001B[0;34m\u001B[0m\u001B[0;34m\u001B[0m\u001B[0m\n\u001B[0;32m--> 288\u001B[0;31m                     \u001B[0;32mraise\u001B[0m \u001B[0mValueError\u001B[0m\u001B[0;34m(\u001B[0m\u001B[0;34m'cannot find widget or abbreviation for argument: {!r}'\u001B[0m\u001B[0;34m.\u001B[0m\u001B[0mformat\u001B[0m\u001B[0;34m(\u001B[0m\u001B[0mname\u001B[0m\u001B[0;34m)\u001B[0m\u001B[0;34m)\u001B[0m\u001B[0;34m\u001B[0m\u001B[0;34m\u001B[0m\u001B[0m\n\u001B[0m\u001B[1;32m    289\u001B[0m                 \u001B[0mnew_kwargs\u001B[0m\u001B[0;34m.\u001B[0m\u001B[0mappend\u001B[0m\u001B[0;34m(\u001B[0m\u001B[0;34m(\u001B[0m\u001B[0mname\u001B[0m\u001B[0;34m,\u001B[0m \u001B[0mvalue\u001B[0m\u001B[0;34m,\u001B[0m \u001B[0mdefault\u001B[0m\u001B[0;34m)\u001B[0m\u001B[0;34m)\u001B[0m\u001B[0;34m\u001B[0m\u001B[0;34m\u001B[0m\u001B[0m\n\u001B[1;32m    290\u001B[0m         \u001B[0;32mreturn\u001B[0m \u001B[0mnew_kwargs\u001B[0m\u001B[0;34m\u001B[0m\u001B[0;34m\u001B[0m\u001B[0m\n",
      "\u001B[0;31mValueError\u001B[0m: cannot find widget or abbreviation for argument: 'combo'"
     ]
    }
   ],
   "source": [
    "# TODO: histogram of tickets_assigned_in_interval\n",
    "\n",
    "def plot_assigned_cards(dev_id: str, sel: str, combo, date_from, date_to):\n",
    "    current_interval = Interval(date_from, date_to)\n",
    "    plot_df = tickets_assigned_in_interval(sw, dev_id, current_interval)\n",
    "    fig =  px.histogram(\n",
    "        plot_df,\n",
    "        x=\"KEY\",\n",
    "        y=\"DAYS_ASSIGNED\",\n",
    "        hover_data=plot_df.columns,\n",
    "        marginal=\"rug\",\n",
    "        title=f\"{dev_id} worked on {len(plot_df.index)} tickets on the interval {current_interval.pretty_str()}\",\n",
    "    )\n",
    "    fig.update_layout(\n",
    "        bargap=0.01,\n",
    "        yaxis_title=\"Days assigned\",\n",
    "        xaxis_title=\"Ticket ID\",\n",
    "    )\n",
    "    return fig\n",
    "\n",
    "_ = interact(\n",
    "        plot_assigned_cards,\n",
    "        dev_id=widgets.widgets.Text(value='marko.prelevikj', placeholder='Developer ID', description='Choose Developer', disabled=False),\n",
    "        date_from=widgets.DatePicker(value=date(2019,10,1), description=\"Date from\"),\n",
    "        date_to=widgets.DatePicker(value=date(2020, 1, 1), description=\"Date to\"),\n",
    "    )"
   ]
  }
 ],
 "metadata": {
  "celltoolbar": "Hide code",
  "kernelspec": {
   "display_name": "Python 3",
   "language": "python",
   "name": "python3"
  },
  "language_info": {
   "codemirror_mode": {
    "name": "ipython",
    "version": 3
   },
   "file_extension": ".py",
   "mimetype": "text/x-python",
   "name": "python",
   "nbconvert_exporter": "python",
   "pygments_lexer": "ipython3",
   "version": "3.7.6"
  }
 },
 "nbformat": 4,
 "nbformat_minor": 1
}