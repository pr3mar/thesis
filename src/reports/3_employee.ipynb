{
 "cells": [
  {
   "cell_type": "markdown",
   "metadata": {
    "collapsed": true,
    "pycharm": {
     "name": "#%% md\n"
    }
   },
   "source": [
    "# Employee report"
   ]
  },
  {
   "cell_type": "code",
   "execution_count": 3,
   "metadata": {
    "hideCode": true,
    "hidePrompt": true,
    "pycharm": {
     "name": "#%%\n"
    }
   },
   "outputs": [
    {
     "data": {
      "text/html": [
       "        <script type=\"text/javascript\">\n",
       "        window.PlotlyConfig = {MathJaxConfig: 'local'};\n",
       "        if (window.MathJax) {MathJax.Hub.Config({SVG: {font: \"STIX-Web\"}});}\n",
       "        if (typeof require !== 'undefined') {\n",
       "        require.undef(\"plotly\");\n",
       "        requirejs.config({\n",
       "            paths: {\n",
       "                'plotly': ['https://cdn.plot.ly/plotly-latest.min']\n",
       "            }\n",
       "        });\n",
       "        require(['plotly'], function(Plotly) {\n",
       "            window._Plotly = Plotly;\n",
       "        });\n",
       "        }\n",
       "        </script>\n",
       "        "
      ]
     },
     "metadata": {},
     "output_type": "display_data"
    },
    {
     "data": {
      "text/html": [
       "        <script type=\"text/javascript\">\n",
       "        window.PlotlyConfig = {MathJaxConfig: 'local'};\n",
       "        if (window.MathJax) {MathJax.Hub.Config({SVG: {font: \"STIX-Web\"}});}\n",
       "        if (typeof require !== 'undefined') {\n",
       "        require.undef(\"plotly\");\n",
       "        requirejs.config({\n",
       "            paths: {\n",
       "                'plotly': ['https://cdn.plot.ly/plotly-latest.min']\n",
       "            }\n",
       "        });\n",
       "        require(['plotly'], function(Plotly) {\n",
       "            window._Plotly = Plotly;\n",
       "        });\n",
       "        }\n",
       "        </script>\n",
       "        "
      ]
     },
     "metadata": {},
     "output_type": "display_data"
    }
   ],
   "source": [
    "import random\n",
    "import ipywidgets as widgets\n",
    "import pandas as pd\n",
    "import plotly.graph_objects as go\n",
    "from plotly.subplots import make_subplots\n",
    "import plotly.express as px\n",
    "from plotly.offline import iplot, init_notebook_mode\n",
    "init_notebook_mode(connected=True)\n",
    "\n",
    "\n",
    "import cufflinks as cf\n",
    "cf.go_offline(connected=True)\n",
    "cf.set_config_file(colorscale='plotly', world_readable=True)\n",
    "\n",
    "# Extra options\n",
    "pd.options.display.max_rows = 30\n",
    "pd.options.display.max_columns = 25\n",
    "\n",
    "from datetime import date\n",
    "import src.compute.changelogs as changelogs\n",
    "from ipywidgets import interact\n",
    "from src.db.utils import SnowflakeWrapper\n",
    "from src.compute.utils import Interval, get_statuses\n",
    "from src.compute.developer import get_developers, get_developer_ids\n",
    "from src.compute.tickets import get_ticket_priorities, get_ticket_types\n",
    "\n",
    "conn = SnowflakeWrapper.create_snowflake_connection()\n",
    "sw = SnowflakeWrapper(conn)\n",
    "\n",
    "dev_ids = get_developer_ids(sw)\n",
    "ticket_statuses = {val:val for val in get_statuses()}\n",
    "ticket_statuses[\"All\"] = None\n",
    "priorities = {val:val for val in get_ticket_priorities(sw)}\n",
    "priorities[\"All\"] = None\n",
    "types = {val:val for val in get_ticket_types(sw)}\n",
    "types[\"All\"] = None"
   ]
  },
  {
   "cell_type": "code",
   "execution_count": 4,
   "metadata": {
    "hideCode": true,
    "hidePrompt": true,
    "pycharm": {
     "name": "#%%\n"
    }
   },
   "outputs": [
    {
     "data": {
      "application/vnd.jupyter.widget-view+json": {
       "model_id": "fa582d12f7d94b7dbb69664f1698e07b",
       "version_major": 2,
       "version_minor": 0
      },
      "text/plain": [
       "interactive(children=(Text(value='marko.prelevikj', description='Choose Developer', placeholder='Developer ID'…"
      ]
     },
     "metadata": {},
     "output_type": "display_data"
    }
   ],
   "source": [
    "label_map = {\n",
    "    \"metrics\": {\n",
    "        \"Average days\": \"AVG_DAYS\",\n",
    "        \"Degree of cycling\": \"DegreeOfCycling\",\n",
    "    },\n",
    "    \"dims\": {\n",
    "        \"type\":  'IssueType',\n",
    "        \"priority\": 'IssuePriority',\n",
    "        \"status\": \"MERGED_STATUS\",\n",
    "    }\n",
    "}\n",
    "\n",
    "def plot_distribution_counts(dev_id, status, x_col, ipriority, itype, date_from, date_to, max_days):\n",
    "    current_interval = Interval(date_from, date_to)\n",
    "    plot_df = get_developers(\n",
    "        sw,\n",
    "        current_interval,\n",
    "        user_filters={\n",
    "            \"status\": ticket_statuses[status],\n",
    "            \"priority\": priorities[ipriority],\n",
    "            \"type\": types[itype],\n",
    "        },\n",
    "        max_duration=max_days\n",
    "    )\n",
    "    if plot_df.empty:\n",
    "        print(\"No data for chosen combination.\")\n",
    "        return\n",
    "    chosen_dev = plot_df.loc[plot_df[\"ASSIGNEE\"] == dev_id]\n",
    "    metric = label_map[\"metrics\"][x_col]\n",
    "    max_val, min_val  = plot_df[metric].max(), plot_df[metric].min()\n",
    "    bins = int(plot_df[label_map[\"metrics\"][x_col]].max() - plot_df[label_map[\"metrics\"][x_col]].min()) + 1\n",
    "    fig = px.histogram(\n",
    "        plot_df,\n",
    "        x=label_map[\"metrics\"][x_col],\n",
    "        title=f\"There are {len(plot_df.index)} active developers on the interval {current_interval.pretty_str()}\",\n",
    "        hover_data=plot_df.columns,\n",
    "        nbins=bins,\n",
    "        labels = {\n",
    "            metric: x_col,\n",
    "        }\n",
    "    )\n",
    "    if not chosen_dev.empty:\n",
    "        mean_val = chosen_dev[metric].iloc[0]\n",
    "        fig.update_layout(shapes=[\n",
    "            dict(\n",
    "                type='line',\n",
    "                yref='paper', y0= 0, y1= 1,\n",
    "                xref='x', x0= mean_val, x1= mean_val,\n",
    "                line=dict(\n",
    "                    color=\"Red\",\n",
    "                    width=4,\n",
    "                    dash=\"dashdot\",\n",
    "                )\n",
    "            )\n",
    "        ])\n",
    "    fig.update_layout(\n",
    "        xaxis = dict(\n",
    "            range=[min_val - 1, max_val + 1],  # sets the range of xaxis\n",
    "            tickmode='linear'\n",
    "        ),\n",
    "        bargap=0.01\n",
    "    )\n",
    "    return fig\n",
    "\n",
    "_ = interact(\n",
    "        plot_distribution_counts,\n",
    "        dev_id=widgets.widgets.Text(value='marko.prelevikj', placeholder='Developer ID', description='Choose Developer', disabled=False),\n",
    "        x_col=widgets.Dropdown(options=label_map[\"metrics\"].keys(), description=\"Metric\"),\n",
    "        status=widgets.Dropdown(options=sorted(ticket_statuses.keys()), description=\"Ticket status\"),\n",
    "        ipriority=widgets.Dropdown(options=sorted(priorities.keys()), description=\"Ticket priority\"),\n",
    "        itype=widgets.Dropdown(options=sorted(types.keys()), description=\"Ticket type\"),\n",
    "        date_from=widgets.DatePicker(value=pd.to_datetime('2019-10-01'), description=\"Date from\"),\n",
    "        date_to=widgets.DatePicker(value=pd.to_datetime('2020-01-01'), description=\"Date to\"),\n",
    "        max_days=widgets.IntSlider(value=10, min=1, max=30, description=\"Max days to resolve\")\n",
    "    )"
   ]
  }
 ],
 "metadata": {
  "celltoolbar": "Hide code",
  "kernelspec": {
   "display_name": "Python 3",
   "language": "python",
   "name": "python3"
  },
  "language_info": {
   "codemirror_mode": {
    "name": "ipython",
    "version": 3
   },
   "file_extension": ".py",
   "mimetype": "text/x-python",
   "name": "python",
   "nbconvert_exporter": "python",
   "pygments_lexer": "ipython3",
   "version": "3.7.6"
  }
 },
 "nbformat": 4,
 "nbformat_minor": 1
}