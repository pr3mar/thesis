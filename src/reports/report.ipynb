{
 "cells": [
  {
   "cell_type": "markdown",
   "metadata": {
    "pycharm": {
     "name": "#%% md\n"
    }
   },
   "source": [
    "# Reporting dashboard\n",
    "## A prototype"
   ]
  },
  {
   "cell_type": "code",
   "execution_count": 6,
   "outputs": [],
   "source": [
    "from datetime import date\n",
    "from IPython.display import display, HTML\n",
    "\n",
    "import src.compute.changelogs as changelogs\n",
    "from src.compute.utils import Interval\n",
    "from src.db.utils import SnowflakeWrapper\n",
    "\n",
    "conn = SnowflakeWrapper.create_snowflake_connection()\n",
    "sw = SnowflakeWrapper(conn)"
   ],
   "metadata": {
    "collapsed": false,
    "pycharm": {
     "name": "#%%\n",
     "is_executing": false
    }
   }
  },
  {
   "cell_type": "markdown",
   "source": [
    "First, we need to define an interval in which we will operate:"
   ],
   "metadata": {
    "collapsed": false,
    "pycharm": {
     "name": "#%% md\n"
    }
   }
  },
  {
   "cell_type": "code",
   "execution_count": 7,
   "outputs": [],
   "source": [
    "active_interval: Interval = Interval(\n",
    "    fromDate=date(2019, 10, 1), # year, month, day\n",
    "    toDate=date(2020, 1, 1)\n",
    ")"
   ],
   "metadata": {
    "collapsed": false,
    "pycharm": {
     "name": "#%% \n",
     "is_executing": false
    }
   }
  },
  {
   "cell_type": "markdown",
   "source": [
    "Number of actions on the given interval"
   ],
   "metadata": {
    "collapsed": false
   }
  },
  {
   "cell_type": "code",
   "execution_count": 8,
   "outputs": [
    {
     "name": "stdout",
     "text": [
      "Cards active in the interval ('2019-10-01', '2020-01-01'): 2969\n"
     ],
     "output_type": "stream"
    }
   ],
   "source": [
    "active_cards: int = changelogs.unique_active_cards(sw, interval=active_interval)\n",
    "print(f\"Cards active in the interval {active_interval}: {active_cards}\")"
   ],
   "metadata": {
    "collapsed": false,
    "pycharm": {
     "name": "#%%\n",
     "is_executing": false
    }
   }
  },
  {
   "cell_type": "code",
   "execution_count": 9,
   "outputs": [
    {
     "name": "stdout",
     "text": [
      "Most frequent transitions in the interval:\n"
     ],
     "output_type": "stream"
    },
    {
     "data": {
      "text/plain": "       FromStatus        ToStatus  TotalTransitions\n0   Ready for dev     Development               480\n1     Development     Code review               450\n2     Code review         Testing               430\n3      In Backlog       Cancelled               398\n4         Testing          Master               380\n5          Master            Live               364\n6     Code review  Needs CR fixes               277\n7  Pending Review          Review               275\n8  Needs CR fixes     Code review               267\n9          Review   Ready for dev               256",
      "text/html": "<div>\n<style scoped>\n    .dataframe tbody tr th:only-of-type {\n        vertical-align: middle;\n    }\n\n    .dataframe tbody tr th {\n        vertical-align: top;\n    }\n\n    .dataframe thead th {\n        text-align: right;\n    }\n</style>\n<table border=\"1\" class=\"dataframe\">\n  <thead>\n    <tr style=\"text-align: right;\">\n      <th></th>\n      <th>FromStatus</th>\n      <th>ToStatus</th>\n      <th>TotalTransitions</th>\n    </tr>\n  </thead>\n  <tbody>\n    <tr>\n      <th>0</th>\n      <td>Ready for dev</td>\n      <td>Development</td>\n      <td>480</td>\n    </tr>\n    <tr>\n      <th>1</th>\n      <td>Development</td>\n      <td>Code review</td>\n      <td>450</td>\n    </tr>\n    <tr>\n      <th>2</th>\n      <td>Code review</td>\n      <td>Testing</td>\n      <td>430</td>\n    </tr>\n    <tr>\n      <th>3</th>\n      <td>In Backlog</td>\n      <td>Cancelled</td>\n      <td>398</td>\n    </tr>\n    <tr>\n      <th>4</th>\n      <td>Testing</td>\n      <td>Master</td>\n      <td>380</td>\n    </tr>\n    <tr>\n      <th>5</th>\n      <td>Master</td>\n      <td>Live</td>\n      <td>364</td>\n    </tr>\n    <tr>\n      <th>6</th>\n      <td>Code review</td>\n      <td>Needs CR fixes</td>\n      <td>277</td>\n    </tr>\n    <tr>\n      <th>7</th>\n      <td>Pending Review</td>\n      <td>Review</td>\n      <td>275</td>\n    </tr>\n    <tr>\n      <th>8</th>\n      <td>Needs CR fixes</td>\n      <td>Code review</td>\n      <td>267</td>\n    </tr>\n    <tr>\n      <th>9</th>\n      <td>Review</td>\n      <td>Ready for dev</td>\n      <td>256</td>\n    </tr>\n  </tbody>\n</table>\n</div>"
     },
     "metadata": {},
     "output_type": "display_data"
    }
   ],
   "source": [
    "print(f\"Most frequent transitions in the interval:\")\n",
    "most_frequent = changelogs.transition_frequency(sw, interval=active_interval, limit=10)\n",
    "display(most_frequent)"
   ],
   "metadata": {
    "collapsed": false,
    "pycharm": {
     "name": "#%%\n",
     "is_executing": false
    }
   }
  },
  {
   "cell_type": "code",
   "execution_count": 10,
   "outputs": [
    {
     "name": "stdout",
     "text": [
      "Least frequent transitions in the interval:\n"
     ],
     "output_type": "stream"
    },
    {
     "data": {
      "text/plain": "          FromStatus             ToStatus  TotalTransitions\n0  Needs SR feedback            Cancelled                 1\n1              To-Do          Spec design                 1\n2          Cancelled                To-Do                 1\n3        Needs fixes                 Done                 1\n4            On Hold  Development Backlog                 1\n5              To Do       Pending Review                 1\n6     Needs QA fixes      Testing On Hold                 1\n7   Work in Progress                To-Do                 1\n8            Backlog               Review                 1\n9      Ready for dev              On Hold                 1",
      "text/html": "<div>\n<style scoped>\n    .dataframe tbody tr th:only-of-type {\n        vertical-align: middle;\n    }\n\n    .dataframe tbody tr th {\n        vertical-align: top;\n    }\n\n    .dataframe thead th {\n        text-align: right;\n    }\n</style>\n<table border=\"1\" class=\"dataframe\">\n  <thead>\n    <tr style=\"text-align: right;\">\n      <th></th>\n      <th>FromStatus</th>\n      <th>ToStatus</th>\n      <th>TotalTransitions</th>\n    </tr>\n  </thead>\n  <tbody>\n    <tr>\n      <th>0</th>\n      <td>Needs SR feedback</td>\n      <td>Cancelled</td>\n      <td>1</td>\n    </tr>\n    <tr>\n      <th>1</th>\n      <td>To-Do</td>\n      <td>Spec design</td>\n      <td>1</td>\n    </tr>\n    <tr>\n      <th>2</th>\n      <td>Cancelled</td>\n      <td>To-Do</td>\n      <td>1</td>\n    </tr>\n    <tr>\n      <th>3</th>\n      <td>Needs fixes</td>\n      <td>Done</td>\n      <td>1</td>\n    </tr>\n    <tr>\n      <th>4</th>\n      <td>On Hold</td>\n      <td>Development Backlog</td>\n      <td>1</td>\n    </tr>\n    <tr>\n      <th>5</th>\n      <td>To Do</td>\n      <td>Pending Review</td>\n      <td>1</td>\n    </tr>\n    <tr>\n      <th>6</th>\n      <td>Needs QA fixes</td>\n      <td>Testing On Hold</td>\n      <td>1</td>\n    </tr>\n    <tr>\n      <th>7</th>\n      <td>Work in Progress</td>\n      <td>To-Do</td>\n      <td>1</td>\n    </tr>\n    <tr>\n      <th>8</th>\n      <td>Backlog</td>\n      <td>Review</td>\n      <td>1</td>\n    </tr>\n    <tr>\n      <th>9</th>\n      <td>Ready for dev</td>\n      <td>On Hold</td>\n      <td>1</td>\n    </tr>\n  </tbody>\n</table>\n</div>"
     },
     "metadata": {},
     "output_type": "display_data"
    }
   ],
   "source": [
    "print(f\"Least frequent transitions in the interval:\")\n",
    "least_frequent = changelogs.transition_frequency(sw, interval=active_interval, limit=10, order=\"ASC\")\n",
    "display(least_frequent)"
   ],
   "metadata": {
    "collapsed": false,
    "pycharm": {
     "name": "#%%\n",
     "is_executing": false
    }
   }
  },
  {
   "cell_type": "markdown",
   "source": [
    "\n"
   ],
   "metadata": {
    "collapsed": false,
    "pycharm": {
     "name": "#%% md\n",
     "is_executing": false
    }
   }
  }
 ],
 "metadata": {
  "kernelspec": {
   "display_name": "Python 3",
   "language": "python",
   "name": "python3"
  },
  "language_info": {
   "codemirror_mode": {
    "name": "ipython",
    "version": 3
   },
   "file_extension": ".py",
   "mimetype": "text/x-python",
   "name": "python",
   "nbconvert_exporter": "python",
   "pygments_lexer": "ipython3",
   "version": "3.7.6"
  },
  "pycharm": {
   "stem_cell": {
    "cell_type": "raw",
    "source": [],
    "metadata": {
     "collapsed": false
    }
   }
  }
 },
 "nbformat": 4,
 "nbformat_minor": 1
}