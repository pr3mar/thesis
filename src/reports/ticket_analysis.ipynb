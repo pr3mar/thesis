{
 "cells": [
  {
   "cell_type": "code",
   "execution_count": 5,
   "metadata": {
    "collapsed": true
   },
   "outputs": [],
   "source": [
    "%precision %.2f\n",
    "%matplotlib inline\n",
    "import matplotlib.pyplot as plt\n",
    "plt.rcParams['figure.figsize'] = (18, 12)\n",
    "import pandas as pd\n",
    "import numpy as np\n",
    "from datetime import date\n",
    "\n",
    "import src.compute.tickets as tickets\n",
    "import src.compute.changelogs as changelogs\n",
    "from src.compute.utils import Interval, statuses_of_interest\n",
    "from src.db.utils import SnowflakeWrapper\n",
    "from src.config import data_root\n",
    "\n",
    "pd.options.display.float_format = '{:,.2f}'.format\n",
    "np.set_printoptions(precision=2)\n",
    "conn = SnowflakeWrapper.create_snowflake_connection()\n",
    "sw = SnowflakeWrapper(conn)"
   ]
  },
  {
   "cell_type": "code",
   "execution_count": 6,
   "metadata": {
    "pycharm": {
     "name": "#%%\n"
    }
   },
   "outputs": [
    {
     "name": "stdout",
     "output_type": "stream",
     "text": [
      "Active interval: ('2019-10-01', '2020-01-01')\n"
     ]
    }
   ],
   "source": [
    "active_interval: Interval = Interval(\n",
    "    # fromDate=date(2019, 7, 1), # year, month, day\n",
    "    # toDate=date(2019, 10, 1),\n",
    "    fromDate=date(2019, 10, 1), # year, month, day\n",
    "    toDate=date(2020, 1, 1)\n",
    ")\n",
    "print(\"Active interval:\", active_interval)"
   ]
  },
  {
   "cell_type": "code",
   "execution_count": 7,
   "metadata": {
    "pycharm": {
     "name": "#%%\n"
    }
   },
   "outputs": [
    {
     "name": "stdout",
     "output_type": "stream",
     "text": [
      "Number of tickets active on ('2019-10-01', '2020-01-01'): 2969\n"
     ]
    }
   ],
   "source": [
    "tickets_active_on_interval = changelogs.tickets_active_on_interval(sw, active_interval)\n",
    "print(f\"Number of tickets active on {active_interval}: {len(tickets_active_on_interval)}\")"
   ]
  },
  {
   "cell_type": "code",
   "execution_count": 8,
   "outputs": [
    {
     "name": "stdout",
     "output_type": "stream",
     "text": [
      "Working on BACKLOG...\n",
      "Working on Backlog...\n",
      "Working on CR On Hold...\n",
      "Working on Cancelled...\n",
      "Working on Code review...\n",
      "Working on Development...\n",
      "Working on Development Backlog...\n",
      "Working on Development On Hold...\n",
      "Working on Done...\n",
      "Working on IN BACKLOG...\n",
      "Working on In Backlog...\n",
      "Working on In Planning...\n",
      "Working on In Progress...\n",
      "Working on In QA Review...\n",
      "Working on In Research...\n",
      "Working on In Review...\n",
      "Working on In development...\n",
      "Working on In master...\n",
      "Working on Live...\n",
      "Working on Master...\n",
      "Working on Needs CR fixes...\n",
      "Working on Needs PR fixes...\n",
      "Working on Needs QA Feedback...\n",
      "Working on Needs QA fixes...\n",
      "Working on Needs SR feedback...\n",
      "Working on Needs fixes...\n",
      "Working on Needs review feedback...\n",
      "Working on Not Started...\n",
      "Working on On Hold...\n",
      "Working on PR On Hold...\n",
      "Working on Pending Approval...\n",
      "Working on Pending Product review...\n",
      "Working on Pending QA Review...\n",
      "Working on Pending Review...\n",
      "Working on Product review...\n",
      "Working on Ready for Work...\n",
      "Working on Ready for dev...\n",
      "Working on Research...\n",
      "Working on Reverted...\n",
      "Working on Review...\n",
      "Working on Spec design...\n",
      "Working on Spec in Progress...\n",
      "Working on Spec in Review...\n",
      "Working on Spec review...\n",
      "Working on TODO for Devs...\n",
      "Working on Testing...\n",
      "Working on Testing On Hold...\n",
      "Working on To Do...\n",
      "Working on To-Do...\n",
      "Working on Work in Progress...\n"
     ]
    }
   ],
   "source": [
    "by_status = tickets.get_tickets_by_status(sw, active_interval)\n",
    "status = \"Development\"\n",
    "by_day = by_status[status][\"AVG_DAYS\"]\n",
    "# by_day = by_status[status][\"AVG_HOUR\"]\n",
    "# chosen_ticket = by_status.loc['<TICKET_ID>', :]"
   ],
   "metadata": {
    "collapsed": false,
    "pycharm": {
     "name": "#%%\n"
    }
   }
  },
  {
   "cell_type": "code",
   "execution_count": 9,
   "outputs": [
    {
     "data": {
      "text/plain": "<Figure size 1296x864 with 1 Axes>",
      "image/png": "[encoded data removed]"
     },
     "metadata": {
      "needs_background": "light"
     },
     "output_type": "display_data"
    }
   ],
   "source": [
    "num_bins = 100\n",
    "fig = plt.figure()\n",
    "plt.hist(by_day, bins=num_bins, alpha=0.75, edgecolor='black')\n",
    "# plt.xticks(np.arange(np.ceil(by_day.min()) - 2,np.ceil(by_day.max()) + 2,1))\n",
    "plt.axvline(by_day.mean(), color='black', linestyle='dashed', linewidth=2, label=f\"Mean = {by_day.mean():.3f}\")\n",
    "# plt.axvline(chosen_ticket[\"AVG_HOUR\"], color='g', linestyle='dashed', linewidth=2, label=f'Chosen user = {chosen_user[\"AVG_HOUR\"]:.3f}')\n",
    "\n",
    "plt.title(f\"Distribution of status '{status}' [{len(by_day)}]\")\n",
    "plt.xlabel(\"#days\")\n",
    "plt.ylabel(\"frequency\")\n",
    "plt.legend()\n",
    "plt.grid()\n",
    "plt.savefig(f\"{data_root}/figs/dev_comparison_{status}_hist.png\")\n",
    "plt.show()\n"
   ],
   "metadata": {
    "collapsed": false,
    "pycharm": {
     "name": "#%%\n"
    }
   }
  }
 ],
 "metadata": {
  "kernelspec": {
   "display_name": "Python 3",
   "language": "python",
   "name": "python3"
  },
  "language_info": {
   "codemirror_mode": {
    "name": "ipython",
    "version": 3
   },
   "file_extension": ".py",
   "mimetype": "text/x-python",
   "name": "python",
   "nbconvert_exporter": "python",
   "pygments_lexer": "ipython3",
   "version": "3.7.6"
  }
 },
 "nbformat": 4,
 "nbformat_minor": 1
}