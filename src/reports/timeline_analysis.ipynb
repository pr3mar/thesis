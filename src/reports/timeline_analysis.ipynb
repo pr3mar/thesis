{
 "cells": [
  {
   "cell_type": "code",
   "execution_count": 13,
   "metadata": {
    "collapsed": true,
    "pycharm": {
     "is_executing": false
    }
   },
   "outputs": [],
   "source": [
    "%precision %.2f\n",
    "%matplotlib inline\n",
    "import matplotlib.pyplot as plt\n",
    "import pandas as pd\n",
    "import numpy as np\n",
    "from datetime import date\n",
    "from IPython.display import display\n",
    "\n",
    "import src.compute.timeline as timeline\n",
    "from src.compute.utils import Interval\n",
    "from src.db.utils import SnowflakeWrapper\n",
    "\n",
    "pd.options.display.float_format = '{:,.2f}'.format\n",
    "np.set_printoptions(precision=2)\n",
    "conn = SnowflakeWrapper.create_snowflake_connection()\n",
    "sw = SnowflakeWrapper(conn)"
   ]
  },
  {
   "cell_type": "code",
   "execution_count": 14,
   "outputs": [
    {
     "name": "stdout",
     "text": [
      "('2019-10-01', '2020-01-01')\n"
     ],
     "output_type": "stream"
    }
   ],
   "source": [
    "active_interval: Interval = Interval(\n",
    "    # fromDate=date(2019, 7, 1), # year, month, day\n",
    "    # toDate=date(2019, 10, 1),\n",
    "    fromDate=date(2019, 10, 1), # year, month, day\n",
    "    toDate=date(2020, 1, 1)\n",
    ")\n",
    "print(active_interval)"
   ],
   "metadata": {
    "collapsed": false,
    "pycharm": {
     "name": "#%% \n",
     "is_executing": false
    }
   }
  },
  {
   "cell_type": "code",
   "execution_count": 15,
   "outputs": [
    {
     "name": "stdout",
     "text": [
      "SELECT     STATUS \"Status\",     COUNT(DISTINCT KEY)             \"UniqueIssues\",     COUNT(*)                        \"Issues\",     AVG(TIMEDELTA) / (60 * 60 * 24) \"AvgDays\",     MAX(TIMEDELTA) / (60 * 60 * 24) \"MaxDays\",     MIN(TIMEDELTA) / (60 * 60 * 24) \"MinDays\" FROM TIMELINES t WHERE     t.DATEFROM >= '2019-10-01'     AND t.DATETO < '2020-01-01' GROUP BY 1 ORDER BY 1, 4 DESC; \n"
     ],
     "output_type": "stream"
    },
    {
     "data": {
      "text/plain": "                   Status  UniqueIssues  Issues          AvgDays  MaxDays  MinDays\n0                 BACKLOG           266     362   5.886963276296    77.35     0.00\n1                 Backlog            12      12   9.710801504630    16.95     0.00\n2              CR On Hold             9      11  16.466463594271    63.00     0.00\n3               Cancelled            32      33   3.325845959595    31.87     0.00\n4             Code review           457     868   2.209761078044    64.10     0.00\n5             Development           463     516   2.919465708438    57.23     0.00\n6     Development Backlog            36      42   6.627769786157    44.89     0.00\n7     Development On Hold            25      29  17.445567528738    78.98     0.00\n8                    Done             5       6   5.031176697535    21.08     0.00\n9              In Backlog           434     448   4.081449497766    63.09     0.00\n10                   Live             1       3   1.955652006169     4.95     0.00\n11                 Master           334     335   6.883860627419    20.09     0.00\n12         Needs CR fixes           172     281   2.716550678796    40.50     0.00\n13         Needs PR fixes             3       5   2.880178240741     8.83     0.30\n14         Needs QA fixes            68     101   3.941720984595    50.89     0.00\n15      Needs SR feedback             4       8   2.905036168981    12.96     0.00\n16            Needs fixes             9      14   1.116250826725     7.72     0.00\n17  Needs review feedback            14      22  14.117611005891    70.15     0.00\n18                On Hold            25      33   5.119638748600    55.75     0.00\n19         Pending Review           301     314   5.890156766042    56.77     0.00\n20         Product review            12      19   4.489562621829    14.60     0.00\n21          Ready for dev           553     630   3.098354791296    65.77     0.00\n22               Research            86      95   0.929832967836    23.96     0.00\n23               Reverted             1       1   0.000069444444     0.00     0.00\n24                 Review           277     305   0.445940080451    55.98     0.00\n25            Spec design           267     291   1.311929768044    41.87     0.00\n26       Spec in Progress             1       1   0.000092592593     0.00     0.00\n27            Spec review            85     103   1.727460558252    48.77     0.00\n28                Testing           429     723   2.938352207234    76.88     0.00\n29        Testing On Hold            38      54  11.574423010972    47.98     0.00\n30                  To Do             4       4   6.256250000000    25.02     0.00\n31                  To-Do           133     145   4.214292784167    72.08     0.00\n32       Work in Progress            55      63   5.381623493530    57.04     0.00",
      "text/html": "<div>\n<style scoped>\n    .dataframe tbody tr th:only-of-type {\n        vertical-align: middle;\n    }\n\n    .dataframe tbody tr th {\n        vertical-align: top;\n    }\n\n    .dataframe thead th {\n        text-align: right;\n    }\n</style>\n<table border=\"1\" class=\"dataframe\">\n  <thead>\n    <tr style=\"text-align: right;\">\n      <th></th>\n      <th>Status</th>\n      <th>UniqueIssues</th>\n      <th>Issues</th>\n      <th>AvgDays</th>\n      <th>MaxDays</th>\n      <th>MinDays</th>\n    </tr>\n  </thead>\n  <tbody>\n    <tr>\n      <th>0</th>\n      <td>BACKLOG</td>\n      <td>266</td>\n      <td>362</td>\n      <td>5.886963276296</td>\n      <td>77.35</td>\n      <td>0.00</td>\n    </tr>\n    <tr>\n      <th>1</th>\n      <td>Backlog</td>\n      <td>12</td>\n      <td>12</td>\n      <td>9.710801504630</td>\n      <td>16.95</td>\n      <td>0.00</td>\n    </tr>\n    <tr>\n      <th>2</th>\n      <td>CR On Hold</td>\n      <td>9</td>\n      <td>11</td>\n      <td>16.466463594271</td>\n      <td>63.00</td>\n      <td>0.00</td>\n    </tr>\n    <tr>\n      <th>3</th>\n      <td>Cancelled</td>\n      <td>32</td>\n      <td>33</td>\n      <td>3.325845959595</td>\n      <td>31.87</td>\n      <td>0.00</td>\n    </tr>\n    <tr>\n      <th>4</th>\n      <td>Code review</td>\n      <td>457</td>\n      <td>868</td>\n      <td>2.209761078044</td>\n      <td>64.10</td>\n      <td>0.00</td>\n    </tr>\n    <tr>\n      <th>5</th>\n      <td>Development</td>\n      <td>463</td>\n      <td>516</td>\n      <td>2.919465708438</td>\n      <td>57.23</td>\n      <td>0.00</td>\n    </tr>\n    <tr>\n      <th>6</th>\n      <td>Development Backlog</td>\n      <td>36</td>\n      <td>42</td>\n      <td>6.627769786157</td>\n      <td>44.89</td>\n      <td>0.00</td>\n    </tr>\n    <tr>\n      <th>7</th>\n      <td>Development On Hold</td>\n      <td>25</td>\n      <td>29</td>\n      <td>17.445567528738</td>\n      <td>78.98</td>\n      <td>0.00</td>\n    </tr>\n    <tr>\n      <th>8</th>\n      <td>Done</td>\n      <td>5</td>\n      <td>6</td>\n      <td>5.031176697535</td>\n      <td>21.08</td>\n      <td>0.00</td>\n    </tr>\n    <tr>\n      <th>9</th>\n      <td>In Backlog</td>\n      <td>434</td>\n      <td>448</td>\n      <td>4.081449497766</td>\n      <td>63.09</td>\n      <td>0.00</td>\n    </tr>\n    <tr>\n      <th>10</th>\n      <td>Live</td>\n      <td>1</td>\n      <td>3</td>\n      <td>1.955652006169</td>\n      <td>4.95</td>\n      <td>0.00</td>\n    </tr>\n    <tr>\n      <th>11</th>\n      <td>Master</td>\n      <td>334</td>\n      <td>335</td>\n      <td>6.883860627419</td>\n      <td>20.09</td>\n      <td>0.00</td>\n    </tr>\n    <tr>\n      <th>12</th>\n      <td>Needs CR fixes</td>\n      <td>172</td>\n      <td>281</td>\n      <td>2.716550678796</td>\n      <td>40.50</td>\n      <td>0.00</td>\n    </tr>\n    <tr>\n      <th>13</th>\n      <td>Needs PR fixes</td>\n      <td>3</td>\n      <td>5</td>\n      <td>2.880178240741</td>\n      <td>8.83</td>\n      <td>0.30</td>\n    </tr>\n    <tr>\n      <th>14</th>\n      <td>Needs QA fixes</td>\n      <td>68</td>\n      <td>101</td>\n      <td>3.941720984595</td>\n      <td>50.89</td>\n      <td>0.00</td>\n    </tr>\n    <tr>\n      <th>15</th>\n      <td>Needs SR feedback</td>\n      <td>4</td>\n      <td>8</td>\n      <td>2.905036168981</td>\n      <td>12.96</td>\n      <td>0.00</td>\n    </tr>\n    <tr>\n      <th>16</th>\n      <td>Needs fixes</td>\n      <td>9</td>\n      <td>14</td>\n      <td>1.116250826725</td>\n      <td>7.72</td>\n      <td>0.00</td>\n    </tr>\n    <tr>\n      <th>17</th>\n      <td>Needs review feedback</td>\n      <td>14</td>\n      <td>22</td>\n      <td>14.117611005891</td>\n      <td>70.15</td>\n      <td>0.00</td>\n    </tr>\n    <tr>\n      <th>18</th>\n      <td>On Hold</td>\n      <td>25</td>\n      <td>33</td>\n      <td>5.119638748600</td>\n      <td>55.75</td>\n      <td>0.00</td>\n    </tr>\n    <tr>\n      <th>19</th>\n      <td>Pending Review</td>\n      <td>301</td>\n      <td>314</td>\n      <td>5.890156766042</td>\n      <td>56.77</td>\n      <td>0.00</td>\n    </tr>\n    <tr>\n      <th>20</th>\n      <td>Product review</td>\n      <td>12</td>\n      <td>19</td>\n      <td>4.489562621829</td>\n      <td>14.60</td>\n      <td>0.00</td>\n    </tr>\n    <tr>\n      <th>21</th>\n      <td>Ready for dev</td>\n      <td>553</td>\n      <td>630</td>\n      <td>3.098354791296</td>\n      <td>65.77</td>\n      <td>0.00</td>\n    </tr>\n    <tr>\n      <th>22</th>\n      <td>Research</td>\n      <td>86</td>\n      <td>95</td>\n      <td>0.929832967836</td>\n      <td>23.96</td>\n      <td>0.00</td>\n    </tr>\n    <tr>\n      <th>23</th>\n      <td>Reverted</td>\n      <td>1</td>\n      <td>1</td>\n      <td>0.000069444444</td>\n      <td>0.00</td>\n      <td>0.00</td>\n    </tr>\n    <tr>\n      <th>24</th>\n      <td>Review</td>\n      <td>277</td>\n      <td>305</td>\n      <td>0.445940080451</td>\n      <td>55.98</td>\n      <td>0.00</td>\n    </tr>\n    <tr>\n      <th>25</th>\n      <td>Spec design</td>\n      <td>267</td>\n      <td>291</td>\n      <td>1.311929768044</td>\n      <td>41.87</td>\n      <td>0.00</td>\n    </tr>\n    <tr>\n      <th>26</th>\n      <td>Spec in Progress</td>\n      <td>1</td>\n      <td>1</td>\n      <td>0.000092592593</td>\n      <td>0.00</td>\n      <td>0.00</td>\n    </tr>\n    <tr>\n      <th>27</th>\n      <td>Spec review</td>\n      <td>85</td>\n      <td>103</td>\n      <td>1.727460558252</td>\n      <td>48.77</td>\n      <td>0.00</td>\n    </tr>\n    <tr>\n      <th>28</th>\n      <td>Testing</td>\n      <td>429</td>\n      <td>723</td>\n      <td>2.938352207234</td>\n      <td>76.88</td>\n      <td>0.00</td>\n    </tr>\n    <tr>\n      <th>29</th>\n      <td>Testing On Hold</td>\n      <td>38</td>\n      <td>54</td>\n      <td>11.574423010972</td>\n      <td>47.98</td>\n      <td>0.00</td>\n    </tr>\n    <tr>\n      <th>30</th>\n      <td>To Do</td>\n      <td>4</td>\n      <td>4</td>\n      <td>6.256250000000</td>\n      <td>25.02</td>\n      <td>0.00</td>\n    </tr>\n    <tr>\n      <th>31</th>\n      <td>To-Do</td>\n      <td>133</td>\n      <td>145</td>\n      <td>4.214292784167</td>\n      <td>72.08</td>\n      <td>0.00</td>\n    </tr>\n    <tr>\n      <th>32</th>\n      <td>Work in Progress</td>\n      <td>55</td>\n      <td>63</td>\n      <td>5.381623493530</td>\n      <td>57.04</td>\n      <td>0.00</td>\n    </tr>\n  </tbody>\n</table>\n</div>"
     },
     "metadata": {},
     "output_type": "display_data"
    }
   ],
   "source": [
    "res = timeline.get_avg_timeline(sw, active_interval)\n",
    "display(res)\n"
   ],
   "metadata": {
    "collapsed": false,
    "pycharm": {
     "name": "#%%\n",
     "is_executing": false
    }
   }
  }
 ],
 "metadata": {
  "kernelspec": {
   "display_name": "Python 3",
   "language": "python",
   "name": "python3"
  },
  "language_info": {
   "codemirror_mode": {
    "name": "ipython",
    "version": 3
   },
   "file_extension": ".py",
   "mimetype": "text/x-python",
   "name": "python",
   "nbconvert_exporter": "python",
   "pygments_lexer": "ipython3",
   "version": "3.7.6"
  },
  "pycharm": {
   "stem_cell": {
    "cell_type": "raw",
    "source": [],
    "metadata": {
     "collapsed": false
    }
   }
  }
 },
 "nbformat": 4,
 "nbformat_minor": 1
}